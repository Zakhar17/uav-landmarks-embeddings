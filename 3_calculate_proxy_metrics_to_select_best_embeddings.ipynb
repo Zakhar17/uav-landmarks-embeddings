{
 "cells": [
  {
   "cell_type": "code",
   "execution_count": 1,
   "metadata": {},
   "outputs": [],
   "source": [
    "from sklearn.ensemble import IsolationForest\n",
    "from sklearn.neighbors import NearestNeighbors\n",
    "from sklearn.decomposition import PCA\n",
    "import numpy as np\n",
    "import pandas as pd\n",
    "import re\n",
    "import os\n",
    "import logging"
   ]
  },
  {
   "cell_type": "markdown",
   "metadata": {},
   "source": [
    "# Helpers"
   ]
  },
  {
   "cell_type": "code",
   "execution_count": 2,
   "metadata": {},
   "outputs": [],
   "source": [
    "LANDMARK_ROOT = \"data\"  \n",
    "SAVE_ROOT_FOLDER = 'data/landmarks_kharchenko_exp_section/'\n",
    "EMBEDDING_COORDS_ROOT = SAVE_ROOT_FOLDER + \"embedding_coords_cache\"\n",
    "\n",
    "os.makedirs(EMBEDDING_COORDS_ROOT, exist_ok=True)\n",
    "\n",
    "LAYER_TO_DIM = {\n",
    "    0: 16,\n",
    "    1: 32,\n",
    "    2: 64,\n",
    "    3: 64,\n",
    "    4: 128, \n",
    "    5: 128,\n",
    "    6: 128,\n",
    "    7: 256,\n",
    "    8: 256,\n",
    "    9: 256,\n",
    "    10: 256\n",
    "}\n",
    "\n",
    "def ensure_folder(path):\n",
    "    if not os.path.exists(path):\n",
    "        os.makedirs(path)\n",
    "\n",
    "\n",
    "def get_embeddings_for_layers(embeddings: np.ndarray, layers: list, layer_to_dim: dict = LAYER_TO_DIM) -> np.ndarray:\n",
    "    \"\"\"\n",
    "    Selects and returns the embeddings for the specified layers from a concatenated embeddings array.\n",
    "\n",
    "    Parameters:\n",
    "    - embeddings (np.ndarray): The input embeddings array of shape (num_samples, total_dim).\n",
    "    - layers (list): A list of layer numbers to extract embeddings for.\n",
    "    - layer_to_dim (dict): A dictionary mapping layer numbers to their respective dimensions.\n",
    "\n",
    "    Returns:\n",
    "    - np.ndarray: A new embeddings array containing only the specified layers' embeddings.\n",
    "    \n",
    "    Raises:\n",
    "    - ValueError: If any of the specified layers are not present in layer_to_dim.\n",
    "    \"\"\"\n",
    "    # Validate input layers\n",
    "    invalid_layers = [layer for layer in layers if layer not in layer_to_dim]\n",
    "    if invalid_layers:\n",
    "        raise ValueError(f\"Layers {invalid_layers} are not present in the layer_to_dim mapping.\")\n",
    "    \n",
    "    # Compute the starting index for each layer\n",
    "    layer_start_indices = {}\n",
    "    current_index = 0\n",
    "    for layer in sorted(layer_to_dim.keys()):\n",
    "        layer_start_indices[layer] = current_index\n",
    "        current_index += layer_to_dim[layer]\n",
    "    \n",
    "    # Collect all column indices for the specified layers\n",
    "    selected_columns = []\n",
    "    for layer in layers:\n",
    "        start = layer_start_indices[layer]\n",
    "        dim = layer_to_dim[layer]\n",
    "        selected_columns.extend(range(start, start + dim))\n",
    "    \n",
    "    # Select and return the columns from the embeddings array\n",
    "    return embeddings[:, selected_columns]\n",
    "\n",
    "\n",
    "def generate_embedding_config_folder(conf_threshold, layer_list):\n",
    "    layer_str = \"_\".join(map(str, layer_list)) if layer_list else \"all\"\n",
    "    folder_name = f\"conf-{conf_threshold}_layers-{layer_str}\"\n",
    "    return folder_name\n",
    "\n",
    "\n",
    "def _numeric_id(fname: str) -> int:\n",
    "    \"\"\"Extract an integer id from filenames like '00012.png' / 'img_34.jpg'.\"\"\"\n",
    "    m = re.search(r\"(\\d+)\", fname)\n",
    "    return int(m.group(1)) if m else -1"
   ]
  },
  {
   "cell_type": "markdown",
   "metadata": {},
   "source": [
    "# Proxy metrics to select the best embedding config"
   ]
  },
  {
   "cell_type": "code",
   "execution_count": 3,
   "metadata": {},
   "outputs": [],
   "source": [
    "# ------------------------------------------------------------------\n",
    "#  calculate_top_k_accuracy_satelite2drone\n",
    "# ------------------------------------------------------------------\n",
    "def calculate_top_k_accuracy_satelite2drone(\n",
    "    max_indicies: list[int],\n",
    "    sum_indicies: list[int],\n",
    "    avg_indicies: list[int],\n",
    "    localisation_radius: int = 3,\n",
    "    contamination: float = 0.2\n",
    ") -> dict[str, int]:\n",
    "    \"\"\"\n",
    "    Satellite → Drone retrieval evaluation with outlier split.\n",
    "    Builds joint embeddings from {max, sum, avg} variants, runs\n",
    "    Isolation Forest to separate outliers / inliers and computes\n",
    "    top‑1 / top‑5 localisation accuracy for each group.\n",
    "\n",
    "    Returns\n",
    "    -------\n",
    "    dict[str, int]  # percentage values, rounded to nearest int\n",
    "    \"\"\"\n",
    "    logging.info(\"Loading embeddings …\")\n",
    "\n",
    "    SAT_PATHS = {\n",
    "        \"max\": \"data/landmarks_satellite_max_urban/embeddings.npy\",\n",
    "        \"sum\": \"data/landmarks_satellite_sum_urban/embeddings.npy\",\n",
    "        \"avg\": \"data/landmarks_satellite_avg_urban/embeddings.npy\"\n",
    "    }\n",
    "    DR_PATHS = {\n",
    "        \"max\": \"data/landmarks_drone_max_urban/embeddings.npy\",\n",
    "        \"sum\": \"data/landmarks_drone_sum_urban/embeddings.npy\",\n",
    "        \"avg\": \"data/landmarks_drone_avg_urban/embeddings.npy\"\n",
    "    }\n",
    "\n",
    "    # -------- 1. Build satellite embeddings ---------------------------------\n",
    "    sat_emb_parts = [\n",
    "        get_embeddings_for_layers(np.load(SAT_PATHS[\"max\"]), max_indicies, LAYER_TO_DIM),\n",
    "        get_embeddings_for_layers(np.load(SAT_PATHS[\"sum\"]), sum_indicies, LAYER_TO_DIM),\n",
    "        get_embeddings_for_layers(np.load(SAT_PATHS[\"avg\"]), avg_indicies, LAYER_TO_DIM)\n",
    "    ]\n",
    "    sat_emb = np.concatenate(sat_emb_parts, axis=1)\n",
    "\n",
    "    # -------- 2. Build drone embeddings -------------------------------------\n",
    "    dr_emb_parts = [\n",
    "        get_embeddings_for_layers(np.load(DR_PATHS[\"max\"]), max_indicies, LAYER_TO_DIM),\n",
    "        get_embeddings_for_layers(np.load(DR_PATHS[\"sum\"]), sum_indicies, LAYER_TO_DIM),\n",
    "        get_embeddings_for_layers(np.load(DR_PATHS[\"avg\"]), avg_indicies, LAYER_TO_DIM)\n",
    "    ]\n",
    "    dr_emb = np.concatenate(dr_emb_parts, axis=1)\n",
    "\n",
    "    # -------- 3. Confidence‑based filtering ---------------------------------\n",
    "    df_sat_meta = pd.read_csv(\"data/landmarks_satellite_sum_urban/info.csv\")\n",
    "    df_dr_meta = pd.read_csv(\"data/landmarks_drone_sum_urban/info.csv\")\n",
    "    sat_mask = df_sat_meta[\"conf\"] >= 0.5\n",
    "    dr_mask  = df_dr_meta[\"conf\"]  >= 0.5\n",
    "\n",
    "    sat_emb = sat_emb[sat_mask.values]\n",
    "    df_sat_meta = df_sat_meta[sat_mask]\n",
    "    sat_img_ids = df_sat_meta[\"image\"].apply(_numeric_id).to_numpy()\n",
    "\n",
    "    dr_emb  = dr_emb[dr_mask.values]\n",
    "    df_dr_meta = df_dr_meta[dr_mask]\n",
    "    dr_img_ids = df_dr_meta[\"image\"].apply(_numeric_id).to_numpy()\n",
    "\n",
    "    # -------- 4. PCA caching (same style as UI) ------------------------------\n",
    "    conf_thr = 0.5\n",
    "    all_layers = sorted(set(max_indicies + sum_indicies + avg_indicies))\n",
    "    emb_cfg_folder = os.path.join(\n",
    "        EMBEDDING_COORDS_ROOT,\n",
    "        generate_embedding_config_folder(conf_thr, all_layers)\n",
    "    )\n",
    "    ensure_folder(emb_cfg_folder)\n",
    "    pca_path = os.path.join(emb_cfg_folder, \"pca_coords.npy\")\n",
    "    if os.path.exists(pca_path):\n",
    "        pass\n",
    "    else:\n",
    "        pca = PCA(n_components=2, random_state=42)\n",
    "        pca_coords = pca.fit_transform(sat_emb)\n",
    "        np.save(pca_path, pca_coords)\n",
    "\n",
    "    # -------- 5. Outlier detection ------------------------------------------\n",
    "    iso = IsolationForest(n_estimators=500, contamination=contamination, random_state=42, n_jobs=6)\n",
    "    iso_lbl = iso.fit_predict(sat_emb)          # 1=inlier, -1=outlier\n",
    "    inlier_mask = (iso_lbl == 1)\n",
    "    outlier_mask = (iso_lbl == -1)\n",
    "\n",
    "    # -------- 6. Fit NN on drone embeddings ---------------------------------\n",
    "    nn_dr = NearestNeighbors(n_neighbors=5, metric='euclidean', n_jobs=6)\n",
    "    nn_dr.fit(dr_emb)\n",
    "\n",
    "    def _eval_group(query_emb_mask: np.ndarray) -> tuple[int, int]:\n",
    "        \"\"\"Returns (top1%, top5%) for given query set.\"\"\"\n",
    "        query_emb_idx = np.where(query_emb_mask)[0]\n",
    "\n",
    "        query_emb = sat_emb[query_emb_idx]\n",
    "\n",
    "        if len(query_emb) == 0:\n",
    "            return 0, 0\n",
    "        \n",
    "        dists, dr_matched_idx = nn_dr.kneighbors(query_emb, n_neighbors=5, return_distance=True)\n",
    "        # dr_matched_idx shape: (Q, 5) – indices into dr_emb\n",
    "\n",
    "        matched_dr_img_ids = dr_img_ids[dr_matched_idx]\n",
    "        query_sat_img_ids = sat_img_ids[query_emb_idx]\n",
    "\n",
    "        diff = np.abs(matched_dr_img_ids - query_sat_img_ids[:, None])\n",
    "\n",
    "        correct1 = np.sum(diff[:, 0] <= localisation_radius)\n",
    "        correct5 = np.sum(np.any(diff <= localisation_radius, axis=1))\n",
    "        top1_pct = correct1 / len(query_emb_idx)\n",
    "        top5_pct = correct5 / len(query_emb_idx)\n",
    "        return top1_pct, top5_pct\n",
    "\n",
    "    # Evaluate inliers\n",
    "    in_top1, in_top5 = _eval_group(inlier_mask)  # index offset = 0\n",
    "    # Evaluate outliers\n",
    "    out_top1, out_top5 = _eval_group(outlier_mask)\n",
    "\n",
    "    return {\n",
    "        \"inliers_top1\":  in_top1,\n",
    "        \"inliers_top5\":  in_top5,\n",
    "        \"outliers_top1\": out_top1,\n",
    "        \"outliers_top5\": out_top5\n",
    "    }\n",
    "\n",
    "\n",
    "# ------------------------------------------------------------------\n",
    "#  calculate_top_k_accuracy_satelite2satelite\n",
    "# ------------------------------------------------------------------\n",
    "def calculate_top_k_accuracy_satelite2satelite(\n",
    "    max_indicies: list[int],\n",
    "    sum_indicies: list[int],\n",
    "    avg_indicies: list[int],\n",
    "    localisation_radius: int = 3,\n",
    "    contamination: float = 0.2\n",
    ") -> dict[str, int]:\n",
    "    \"\"\"\n",
    "    Satellite → Satellite retrieval evaluation with outlier split.\n",
    "    Self‑match is skipped; we look at neighbours #2 – #6.\n",
    "\n",
    "    Returns\n",
    "    -------\n",
    "    dict[str, int]  # percentage values, rounded to nearest int\n",
    "    \"\"\"\n",
    "    logging.info(\"Loading embeddings …\")\n",
    "\n",
    "    SAT_PATHS = {\n",
    "        \"max\": \"data/landmarks_satellite_max_urban/embeddings.npy\",\n",
    "        \"sum\": \"data/landmarks_satellite_sum_urban/embeddings.npy\",\n",
    "        \"avg\": \"data/landmarks_satellite_avg_urban/embeddings.npy\"\n",
    "    }\n",
    "\n",
    "    sat_emb_parts = [\n",
    "        get_embeddings_for_layers(np.load(SAT_PATHS[\"max\"]), max_indicies, LAYER_TO_DIM),\n",
    "        get_embeddings_for_layers(np.load(SAT_PATHS[\"sum\"]), sum_indicies, LAYER_TO_DIM),\n",
    "        get_embeddings_for_layers(np.load(SAT_PATHS[\"avg\"]), avg_indicies, LAYER_TO_DIM)\n",
    "    ]\n",
    "    sat_emb = np.concatenate(sat_emb_parts, axis=1)\n",
    "\n",
    "    df_sat_meta = pd.read_csv(\"data/landmarks_satellite_sum_urban/info.csv\")\n",
    "    sat_mask = df_sat_meta[\"conf\"] > 0.5\n",
    "\n",
    "    sat_emb = sat_emb[sat_mask.values]\n",
    "    df_sat_meta = df_sat_meta[sat_mask]\n",
    "    sat_img_ids = df_sat_meta[\"image\"].apply(_numeric_id).to_numpy()\n",
    "\n",
    "    # PCA caching as before\n",
    "    conf_thr = 0.5\n",
    "    all_layers = sorted(set(max_indicies + sum_indicies + avg_indicies))\n",
    "    emb_cfg_folder = os.path.join(\n",
    "        EMBEDDING_COORDS_ROOT,\n",
    "        generate_embedding_config_folder(conf_thr, all_layers)\n",
    "    )\n",
    "    ensure_folder(emb_cfg_folder)\n",
    "    pca_path = os.path.join(emb_cfg_folder, \"pca_coords.npy\")\n",
    "    if not os.path.exists(pca_path):\n",
    "        pca = PCA(n_components=2, random_state=42)\n",
    "        np.save(pca_path, pca.fit_transform(sat_emb))\n",
    "\n",
    "    # Outlier detection\n",
    "    iso = IsolationForest(n_estimators=500, contamination=contamination, random_state=42, n_jobs=6)\n",
    "    iso_lbl = iso.fit_predict(sat_emb)\n",
    "    inlier_mask = (iso_lbl == 1)\n",
    "    outlier_mask = (iso_lbl == -1)\n",
    "\n",
    "    # NN on satellite embeddings themselves\n",
    "    nn_sat = NearestNeighbors(n_neighbors=6, metric='euclidean', n_jobs=6)\n",
    "    nn_sat.fit(sat_emb)\n",
    "\n",
    "    def _eval_group(mask: np.ndarray) -> tuple[int, int]:\n",
    "        query_emb_idx = np.where(mask)[0]\n",
    "\n",
    "        if query_emb_idx.size == 0:\n",
    "            return 0, 0\n",
    "        \n",
    "        query_emb = sat_emb[query_emb_idx]\n",
    "        \n",
    "        dists, matched_emb_idx = nn_sat.kneighbors(query_emb, n_neighbors=6, return_distance=True)\n",
    "        \n",
    "        # drop self‑index (always first)\n",
    "        matched_emb_idx = matched_emb_idx[:, 1:6]\n",
    "        matched_sat_img_ids = sat_img_ids[matched_emb_idx]\n",
    "        query_sat_img_ids = sat_img_ids[query_emb_idx]\n",
    "\n",
    "        diff = np.abs(matched_sat_img_ids - query_sat_img_ids[:, None])\n",
    "        correct1 = np.sum(diff[:, 0] <= localisation_radius)\n",
    "        correct5 = np.sum(np.any(diff <= localisation_radius, axis=1))\n",
    "        top1_pct = correct1 / query_emb_idx.size\n",
    "        top5_pct = correct5 / query_emb_idx.size\n",
    "        return top1_pct, top5_pct\n",
    "\n",
    "    in_top1, in_top5 = _eval_group(inlier_mask)\n",
    "    out_top1, out_top5 = _eval_group(outlier_mask)\n",
    "\n",
    "    return {\n",
    "        \"inliers_top1\":  in_top1,\n",
    "        \"inliers_top5\":  in_top5,\n",
    "        \"outliers_top1\": out_top1,\n",
    "        \"outliers_top5\": out_top5\n",
    "    }"
   ]
  },
  {
   "cell_type": "code",
   "execution_count": 31,
   "metadata": {},
   "outputs": [
    {
     "data": {
      "text/plain": [
       "{'inliers_top1': np.float64(0.6618209640397857),\n",
       " 'inliers_top5': np.float64(0.7731191022698292),\n",
       " 'outliers_top1': np.float64(0.9263565891472868),\n",
       " 'outliers_top5': np.float64(0.9777131782945736)}"
      ]
     },
     "execution_count": 31,
     "metadata": {},
     "output_type": "execute_result"
    }
   ],
   "source": [
    "calculate_top_k_accuracy_satelite2satelite(\n",
    "    max_indicies= [10],\n",
    "    sum_indicies= [],\n",
    "    avg_indicies= [],\n",
    "    localisation_radius = 3,\n",
    "    contamination=0.1\n",
    ")"
   ]
  },
  {
   "cell_type": "code",
   "execution_count": 53,
   "metadata": {},
   "outputs": [
    {
     "data": {
      "text/plain": [
       "{'inliers_top1': np.float64(0.6917030097453293),\n",
       " 'inliers_top5': np.float64(0.7872718462283961),\n",
       " 'outliers_top1': np.float64(0.8439922480620154),\n",
       " 'outliers_top5': np.float64(0.9452519379844961)}"
      ]
     },
     "execution_count": 53,
     "metadata": {},
     "output_type": "execute_result"
    }
   ],
   "source": [
    "calculate_top_k_accuracy_satelite2satelite(\n",
    "    max_indicies= [],\n",
    "    sum_indicies= [],\n",
    "    avg_indicies= [10],\n",
    "    localisation_radius = 3,\n",
    "    contamination=0.1\n",
    ")"
   ]
  },
  {
   "cell_type": "code",
   "execution_count": 56,
   "metadata": {},
   "outputs": [
    {
     "data": {
      "text/plain": [
       "{'inliers_top1': np.float64(0.03257416680127066),\n",
       " 'inliers_top5': np.float64(0.09368438055241479),\n",
       " 'outliers_top1': np.float64(0.09689922480620156),\n",
       " 'outliers_top5': np.float64(0.20881782945736435)}"
      ]
     },
     "execution_count": 56,
     "metadata": {},
     "output_type": "execute_result"
    }
   ],
   "source": [
    "calculate_top_k_accuracy_satelite2drone(\n",
    "    max_indicies= [],\n",
    "    sum_indicies= [],\n",
    "    avg_indicies= [10],\n",
    "    localisation_radius = 3,\n",
    "    contamination=0.1\n",
    ")"
   ]
  },
  {
   "cell_type": "code",
   "execution_count": null,
   "metadata": {},
   "outputs": [
    {
     "data": {
      "text/plain": [
       "{'inliers_top1': np.float64(0.04818823022667313),\n",
       " 'inliers_top5': np.float64(0.11565175254401551),\n",
       " 'outliers_top1': np.float64(0.1690891472868217),\n",
       " 'outliers_top5': np.float64(0.29748062015503873)}"
      ]
     },
     "execution_count": 34,
     "metadata": {},
     "output_type": "execute_result"
    }
   ],
   "source": [
    "calculate_top_k_accuracy_satelite2drone(\n",
    "    max_indicies= [],\n",
    "    sum_indicies= [],\n",
    "    avg_indicies= [10],\n",
    "    localisation_radius = 3,\n",
    "    contamination=0.1\n",
    ")"
   ]
  },
  {
   "cell_type": "markdown",
   "metadata": {},
   "source": [
    "# Run Greedy Search Algo"
   ]
  },
  {
   "cell_type": "code",
   "execution_count": 87,
   "metadata": {},
   "outputs": [],
   "source": [
    "import itertools\n",
    "from typing import Callable, Dict, List, Tuple\n",
    "\n",
    "import numpy as np\n",
    "import pandas as pd\n",
    "import plotly.graph_objects as go\n",
    "from plotly.subplots import make_subplots\n",
    "\n",
    "# ------------------------------------------------------------------\n",
    "# decision target = outlier‑top‑5\n",
    "# ------------------------------------------------------------------\n",
    "def _outlier_score(metric_dict: Dict[str, float]) -> float:\n",
    "    return metric_dict[\"outliers_top1\"]\n",
    "\n",
    "\n",
    "# ------------------------------------------------------------------\n",
    "# greedy forward‑selection (sequential – no multiprocessing)\n",
    "# ------------------------------------------------------------------\n",
    "def _greedy_layer_selection(\n",
    "    aggregation: str,\n",
    "    metric_fns: List[Callable],\n",
    "    layer_pool: Tuple[int, ...] = tuple(range(11)),\n",
    "    localisation_radius: int = 3,\n",
    "    contamination: float = 0.2\n",
    ") -> Tuple[List[int], Dict[str, float], pd.DataFrame]:\n",
    "    \"\"\"\n",
    "    Select layers for ONE aggregation (‘max’ / ‘sum’ / ‘avg’) by maximising\n",
    "    outlier‑top‑5 accuracy.  Evaluates candidates sequentially.\n",
    "    \"\"\"\n",
    "    selected: List[int] = []\n",
    "    remaining = list(layer_pool)\n",
    "    step = 0\n",
    "    rows: List[Dict] = []\n",
    "    best_score = -np.inf\n",
    "    best_metric_dict: Dict[str, float] | None = None\n",
    "\n",
    "    agg2lists = {\n",
    "        \"max\": (selected, [], []),\n",
    "        \"sum\": ([], selected, []),\n",
    "        \"avg\": ([], [], selected),\n",
    "    }\n",
    "\n",
    "    while remaining:\n",
    "        step += 1\n",
    "        \n",
    "        max_l, sum_l, avg_l = agg2lists[aggregation]\n",
    "        step_best: tuple | None = None  # (layer, metric_name, score, res)\n",
    "\n",
    "        # --------------------------------------------------------------\n",
    "        # evaluate every (remaining layer × metric function) combination\n",
    "        # --------------------------------------------------------------\n",
    "        for cand_layer, fn in itertools.product(remaining, metric_fns):\n",
    "            # prepare copies so original lists stay unchanged\n",
    "            max_c, sum_c, avg_c = max_l.copy(), sum_l.copy(), avg_l.copy()\n",
    "            if aggregation == \"max\":\n",
    "                max_c.append(cand_layer)\n",
    "            elif aggregation == \"sum\":\n",
    "                sum_c.append(cand_layer)\n",
    "            else:\n",
    "                avg_c.append(cand_layer)\n",
    "\n",
    "            res = fn(\n",
    "                max_indicies=max_c,\n",
    "                sum_indicies=sum_c,\n",
    "                avg_indicies=avg_c,\n",
    "                localisation_radius=localisation_radius,\n",
    "                contamination=contamination\n",
    "            )\n",
    "            score = _outlier_score(res)\n",
    "            increment = score - best_score if best_score > -np.inf else score\n",
    "\n",
    "            print(f'Completed:  max={max_c} | sum={sum_c} | avg={avg_c} | agg={aggregation} | fn={fn.__name__} | score={score} | increment={increment} | best_score={best_score}')\n",
    "\n",
    "            rows.append(\n",
    "                {\n",
    "                    \"step\": step,\n",
    "                    \"layer_tested\": cand_layer,\n",
    "                    \"metric_name\": fn.__name__,\n",
    "                    \"inliers_top1\": res[\"inliers_top1\"],\n",
    "                    \"inliers_top5\": res[\"inliers_top5\"],\n",
    "                    \"outliers_top1\": res[\"outliers_top1\"],\n",
    "                    \"outliers_top5\": res[\"outliers_top5\"],\n",
    "                    \"outlier_score\": score,\n",
    "                    \"increment\": increment,\n",
    "                    \"aggregation\": aggregation,\n",
    "                    \"accepted\": False,\n",
    "                }\n",
    "            )\n",
    "\n",
    "            if (step_best is None) or (score > step_best[2]):\n",
    "                step_best = (cand_layer, fn.__name__, score, res, increment)\n",
    "\n",
    "        # decide whether to accept the best candidate for this step\n",
    "        cand_layer, metric_name, cand_score, cand_res, cand_inc = step_best\n",
    "        if cand_score > best_score:\n",
    "            selected.append(cand_layer)\n",
    "            best_score = cand_score\n",
    "            best_metric_dict = cand_res\n",
    "            remaining.remove(cand_layer)\n",
    "\n",
    "            # flag the accepted record\n",
    "            for r in rows[::-1]:          # iterate backwards for speed\n",
    "                if (\n",
    "                    r[\"step\"] == step\n",
    "                    and r[\"layer_tested\"] == cand_layer\n",
    "                    and r[\"metric_name\"] == metric_name\n",
    "                ):\n",
    "                    r[\"accepted\"] = True\n",
    "                    break\n",
    "        else:\n",
    "            break  # no further positive improvement ⇒ stop\n",
    "\n",
    "    df_steps = pd.DataFrame(rows)\n",
    "    return selected, best_metric_dict, df_steps\n",
    "\n",
    "\n",
    "# ------------------------------------------------------------------\n",
    "# run selection for all aggregations & plot accepted increments only\n",
    "# ------------------------------------------------------------------\n",
    "def run_layer_selection(\n",
    "    metric_fns: List[Callable],\n",
    "    layer_pool: Tuple[int, ...] = tuple(range(11)),\n",
    "    localisation_radius: int = 3,\n",
    "    contamination: float = 0.2\n",
    ") -> Tuple[Dict[str, List[int]], Dict[str, Dict[str, float]], pd.DataFrame]:\n",
    "    \"\"\"\n",
    "    Executes greedy layer selection for each aggregation (‘max’, ‘sum’, ‘avg’).\n",
    "    Returns selected layers, final metric dicts, and a DataFrame of all steps.\n",
    "    Produces a Plotly figure showing **only** the positive increments\n",
    "    of accepted layers (one marker per step).\n",
    "    \"\"\"\n",
    "    final_layers: Dict[str, List[int]] = {}\n",
    "    final_metrics: Dict[str, Dict[str, float]] = {}\n",
    "    dfs: List[pd.DataFrame] = []\n",
    "\n",
    "    for agg in [\n",
    "        \"max\", \n",
    "        \"sum\", \n",
    "        \"avg\"\n",
    "    ]:\n",
    "        sel, met, df_steps = _greedy_layer_selection(\n",
    "            aggregation=agg,\n",
    "            metric_fns=metric_fns,\n",
    "            layer_pool=layer_pool,\n",
    "            localisation_radius=localisation_radius,\n",
    "            contamination=contamination\n",
    "        )\n",
    "        final_layers[agg] = sel\n",
    "        final_metrics[agg] = met\n",
    "        dfs.append(df_steps)\n",
    "\n",
    "    df_all = pd.concat(dfs, ignore_index=True)\n",
    "\n",
    "    # ----------------------------- visualisation -----------------------------\n",
    "    fig = make_subplots(\n",
    "        rows=1,\n",
    "        cols=3,\n",
    "        subplot_titles=[\"max\", \"sum\", \"avg\"],\n",
    "        shared_yaxes=True,\n",
    "    )\n",
    "\n",
    "    for col, agg in enumerate([\"max\", \"sum\", \"avg\"], start=1):\n",
    "        sub_df = df_all[(df_all[\"aggregation\"] == agg) & (df_all[\"accepted\"])]\n",
    "        if sub_df.empty:\n",
    "            continue\n",
    "\n",
    "        for metric_name, grp in sub_df.groupby(\"metric_name\"):\n",
    "            fig.add_trace(\n",
    "                go.Scatter(\n",
    "                    x=grp[\"step\"],\n",
    "                    y=grp[\"outlier_score\"],\n",
    "                    mode=\"lines+markers\",\n",
    "                    name=metric_name,\n",
    "                    showlegend=(col == 1),  # legend only once\n",
    "                ),\n",
    "                row=1,\n",
    "                col=col,\n",
    "            )\n",
    "\n",
    "        fig.update_xaxes(title_text=\"Step\", row=1, col=col)\n",
    "\n",
    "    fig.update_yaxes(title_text=\"Increment\", row=1, col=1)\n",
    "    fig.update_layout(\n",
    "        title_text=\"Incremental Improvement per Step (accepted layers only)\"\n",
    "    )\n",
    "    fig.show()\n",
    "\n",
    "    return final_layers, final_metrics, df_all"
   ]
  },
  {
   "cell_type": "code",
   "execution_count": 88,
   "metadata": {},
   "outputs": [
    {
     "name": "stdout",
     "output_type": "stream",
     "text": [
      "Completed:  max=[0] | sum=[] | avg=[] | agg=max | fn=calculate_top_k_accuracy_satelite2drone | score=0.009205426356589148 | increment=0.009205426356589148 | best_score=-inf\n",
      "Completed:  max=[1] | sum=[] | avg=[] | agg=max | fn=calculate_top_k_accuracy_satelite2drone | score=0.015019379844961241 | increment=0.015019379844961241 | best_score=-inf\n",
      "Completed:  max=[2] | sum=[] | avg=[] | agg=max | fn=calculate_top_k_accuracy_satelite2drone | score=0.018168604651162792 | increment=0.018168604651162792 | best_score=-inf\n",
      "Completed:  max=[3] | sum=[] | avg=[] | agg=max | fn=calculate_top_k_accuracy_satelite2drone | score=0.03512596899224806 | increment=0.03512596899224806 | best_score=-inf\n",
      "Completed:  max=[4] | sum=[] | avg=[] | agg=max | fn=calculate_top_k_accuracy_satelite2drone | score=0.06758720930232558 | increment=0.06758720930232558 | best_score=-inf\n",
      "Completed:  max=[5] | sum=[] | avg=[] | agg=max | fn=calculate_top_k_accuracy_satelite2drone | score=0.06976744186046512 | increment=0.06976744186046512 | best_score=-inf\n",
      "Completed:  max=[6] | sum=[] | avg=[] | agg=max | fn=calculate_top_k_accuracy_satelite2drone | score=0.117431640625 | increment=0.117431640625 | best_score=-inf\n",
      "Completed:  max=[7] | sum=[] | avg=[] | agg=max | fn=calculate_top_k_accuracy_satelite2drone | score=0.09035852713178294 | increment=0.09035852713178294 | best_score=-inf\n",
      "Completed:  max=[8] | sum=[] | avg=[] | agg=max | fn=calculate_top_k_accuracy_satelite2drone | score=0.11603682170542635 | increment=0.11603682170542635 | best_score=-inf\n",
      "Completed:  max=[9] | sum=[] | avg=[] | agg=max | fn=calculate_top_k_accuracy_satelite2drone | score=0.13662790697674418 | increment=0.13662790697674418 | best_score=-inf\n",
      "Completed:  max=[10] | sum=[] | avg=[] | agg=max | fn=calculate_top_k_accuracy_satelite2drone | score=0.09471899224806202 | increment=0.09471899224806202 | best_score=-inf\n",
      "Completed:  max=[9, 0] | sum=[] | avg=[] | agg=max | fn=calculate_top_k_accuracy_satelite2drone | score=0.010901162790697675 | increment=-0.1257267441860465 | best_score=0.13662790697674418\n",
      "Completed:  max=[9, 1] | sum=[] | avg=[] | agg=max | fn=calculate_top_k_accuracy_satelite2drone | score=0.014050387596899225 | increment=-0.12257751937984496 | best_score=0.13662790697674418\n",
      "Completed:  max=[9, 2] | sum=[] | avg=[] | agg=max | fn=calculate_top_k_accuracy_satelite2drone | score=0.03197674418604651 | increment=-0.10465116279069767 | best_score=0.13662790697674418\n",
      "Completed:  max=[9, 3] | sum=[] | avg=[] | agg=max | fn=calculate_top_k_accuracy_satelite2drone | score=0.08890503875968993 | increment=-0.04772286821705425 | best_score=0.13662790697674418\n",
      "Completed:  max=[9, 4] | sum=[] | avg=[] | agg=max | fn=calculate_top_k_accuracy_satelite2drone | score=0.1298449612403101 | increment=-0.006782945736434093 | best_score=0.13662790697674418\n",
      "Completed:  max=[9, 5] | sum=[] | avg=[] | agg=max | fn=calculate_top_k_accuracy_satelite2drone | score=0.12887596899224807 | increment=-0.00775193798449611 | best_score=0.13662790697674418\n",
      "Completed:  max=[9, 6] | sum=[] | avg=[] | agg=max | fn=calculate_top_k_accuracy_satelite2drone | score=0.17296511627906977 | increment=0.03633720930232559 | best_score=0.13662790697674418\n",
      "Completed:  max=[9, 7] | sum=[] | avg=[] | agg=max | fn=calculate_top_k_accuracy_satelite2drone | score=0.12814922480620156 | increment=-0.008478682170542623 | best_score=0.13662790697674418\n",
      "Completed:  max=[9, 8] | sum=[] | avg=[] | agg=max | fn=calculate_top_k_accuracy_satelite2drone | score=0.13347868217054262 | increment=-0.003149224806201556 | best_score=0.13662790697674418\n",
      "Completed:  max=[9, 10] | sum=[] | avg=[] | agg=max | fn=calculate_top_k_accuracy_satelite2drone | score=0.12330426356589147 | increment=-0.013323643410852709 | best_score=0.13662790697674418\n",
      "Completed:  max=[9, 6, 0] | sum=[] | avg=[] | agg=max | fn=calculate_top_k_accuracy_satelite2drone | score=0.015746124031007752 | increment=-0.15721899224806202 | best_score=0.17296511627906977\n",
      "Completed:  max=[9, 6, 1] | sum=[] | avg=[] | agg=max | fn=calculate_top_k_accuracy_satelite2drone | score=0.012354651162790697 | increment=-0.16061046511627908 | best_score=0.17296511627906977\n",
      "Completed:  max=[9, 6, 2] | sum=[] | avg=[] | agg=max | fn=calculate_top_k_accuracy_satelite2drone | score=0.056443798449612406 | increment=-0.11652131782945736 | best_score=0.17296511627906977\n",
      "Completed:  max=[9, 6, 3] | sum=[] | avg=[] | agg=max | fn=calculate_top_k_accuracy_satelite2drone | score=0.12911821705426357 | increment=-0.043846899224806196 | best_score=0.17296511627906977\n",
      "Completed:  max=[9, 6, 4] | sum=[] | avg=[] | agg=max | fn=calculate_top_k_accuracy_satelite2drone | score=0.1509205426356589 | increment=-0.022044573643410864 | best_score=0.17296511627906977\n",
      "Completed:  max=[9, 6, 5] | sum=[] | avg=[] | agg=max | fn=calculate_top_k_accuracy_satelite2drone | score=0.1499515503875969 | increment=-0.02301356589147288 | best_score=0.17296511627906977\n",
      "Completed:  max=[9, 6, 7] | sum=[] | avg=[] | agg=max | fn=calculate_top_k_accuracy_satelite2drone | score=0.15528100775193798 | increment=-0.017684108527131787 | best_score=0.17296511627906977\n",
      "Completed:  max=[9, 6, 8] | sum=[] | avg=[] | agg=max | fn=calculate_top_k_accuracy_satelite2drone | score=0.15964147286821706 | increment=-0.013323643410852709 | best_score=0.17296511627906977\n",
      "Completed:  max=[9, 6, 10] | sum=[] | avg=[] | agg=max | fn=calculate_top_k_accuracy_satelite2drone | score=0.17562984496124032 | increment=0.0026647286821705474 | best_score=0.17296511627906977\n",
      "Completed:  max=[9, 6, 10, 0] | sum=[] | avg=[] | agg=max | fn=calculate_top_k_accuracy_satelite2drone | score=0.017926356589147287 | increment=-0.15770348837209303 | best_score=0.17562984496124032\n",
      "Completed:  max=[9, 6, 10, 1] | sum=[] | avg=[] | agg=max | fn=calculate_top_k_accuracy_satelite2drone | score=0.013565891472868217 | increment=-0.1620639534883721 | best_score=0.17562984496124032\n",
      "Completed:  max=[9, 6, 10, 2] | sum=[] | avg=[] | agg=max | fn=calculate_top_k_accuracy_satelite2drone | score=0.07315891472868218 | increment=-0.10247093023255814 | best_score=0.17562984496124032\n",
      "Completed:  max=[9, 6, 10, 3] | sum=[] | avg=[] | agg=max | fn=calculate_top_k_accuracy_satelite2drone | score=0.14074612403100775 | increment=-0.034883720930232565 | best_score=0.17562984496124032\n",
      "Completed:  max=[9, 6, 10, 4] | sum=[] | avg=[] | agg=max | fn=calculate_top_k_accuracy_satelite2drone | score=0.16303294573643412 | increment=-0.012596899224806196 | best_score=0.17562984496124032\n",
      "Completed:  max=[9, 6, 10, 5] | sum=[] | avg=[] | agg=max | fn=calculate_top_k_accuracy_satelite2drone | score=0.16279069767441862 | increment=-0.0128391472868217 | best_score=0.17562984496124032\n",
      "Completed:  max=[9, 6, 10, 7] | sum=[] | avg=[] | agg=max | fn=calculate_top_k_accuracy_satelite2drone | score=0.1690891472868217 | increment=-0.006540697674418616 | best_score=0.17562984496124032\n",
      "Completed:  max=[9, 6, 10, 8] | sum=[] | avg=[] | agg=max | fn=calculate_top_k_accuracy_satelite2drone | score=0.17151162790697674 | increment=-0.004118217054263573 | best_score=0.17562984496124032\n",
      "Completed:  max=[] | sum=[0] | avg=[] | agg=sum | fn=calculate_top_k_accuracy_satelite2drone | score=0.03464147286821705 | increment=0.03464147286821705 | best_score=-inf\n",
      "Completed:  max=[] | sum=[1] | avg=[] | agg=sum | fn=calculate_top_k_accuracy_satelite2drone | score=0.05111434108527132 | increment=0.05111434108527132 | best_score=-inf\n",
      "Completed:  max=[] | sum=[2] | avg=[] | agg=sum | fn=calculate_top_k_accuracy_satelite2drone | score=0.08236434108527131 | increment=0.08236434108527131 | best_score=-inf\n",
      "Completed:  max=[] | sum=[3] | avg=[] | agg=sum | fn=calculate_top_k_accuracy_satelite2drone | score=0.10295542635658915 | increment=0.10295542635658915 | best_score=-inf\n",
      "Completed:  max=[] | sum=[4] | avg=[] | agg=sum | fn=calculate_top_k_accuracy_satelite2drone | score=0.1182170542635659 | increment=0.1182170542635659 | best_score=-inf\n",
      "Completed:  max=[] | sum=[5] | avg=[] | agg=sum | fn=calculate_top_k_accuracy_satelite2drone | score=0.12839147286821706 | increment=0.12839147286821706 | best_score=-inf\n",
      "Completed:  max=[] | sum=[6] | avg=[] | agg=sum | fn=calculate_top_k_accuracy_satelite2drone | score=0.14656007751937986 | increment=0.14656007751937986 | best_score=-inf\n",
      "Completed:  max=[] | sum=[7] | avg=[] | agg=sum | fn=calculate_top_k_accuracy_satelite2drone | score=0.10465116279069768 | increment=0.10465116279069768 | best_score=-inf\n",
      "Completed:  max=[] | sum=[8] | avg=[] | agg=sum | fn=calculate_top_k_accuracy_satelite2drone | score=0.12063953488372094 | increment=0.12063953488372094 | best_score=-inf\n",
      "Completed:  max=[] | sum=[9] | avg=[] | agg=sum | fn=calculate_top_k_accuracy_satelite2drone | score=0.13323643410852712 | increment=0.13323643410852712 | best_score=-inf\n",
      "Completed:  max=[] | sum=[10] | avg=[] | agg=sum | fn=calculate_top_k_accuracy_satelite2drone | score=0.09956395348837209 | increment=0.09956395348837209 | best_score=-inf\n",
      "Completed:  max=[] | sum=[6, 0] | avg=[] | agg=sum | fn=calculate_top_k_accuracy_satelite2drone | score=0.03682170542635659 | increment=-0.10973837209302326 | best_score=0.14656007751937986\n",
      "Completed:  max=[] | sum=[6, 1] | avg=[] | agg=sum | fn=calculate_top_k_accuracy_satelite2drone | score=0.053052325581395346 | increment=-0.09350775193798451 | best_score=0.14656007751937986\n",
      "Completed:  max=[] | sum=[6, 2] | avg=[] | agg=sum | fn=calculate_top_k_accuracy_satelite2drone | score=0.0811531007751938 | increment=-0.06540697674418605 | best_score=0.14656007751937986\n",
      "Completed:  max=[] | sum=[6, 3] | avg=[] | agg=sum | fn=calculate_top_k_accuracy_satelite2drone | score=0.10707364341085271 | increment=-0.039486434108527146 | best_score=0.14656007751937986\n",
      "Completed:  max=[] | sum=[6, 4] | avg=[] | agg=sum | fn=calculate_top_k_accuracy_satelite2drone | score=0.12427325581395349 | increment=-0.02228682170542637 | best_score=0.14656007751937986\n",
      "Completed:  max=[] | sum=[6, 5] | avg=[] | agg=sum | fn=calculate_top_k_accuracy_satelite2drone | score=0.1380813953488372 | increment=-0.00847868217054265 | best_score=0.14656007751937986\n",
      "Completed:  max=[] | sum=[6, 7] | avg=[] | agg=sum | fn=calculate_top_k_accuracy_satelite2drone | score=0.1501937984496124 | increment=0.003633720930232537 | best_score=0.14656007751937986\n",
      "Completed:  max=[] | sum=[6, 8] | avg=[] | agg=sum | fn=calculate_top_k_accuracy_satelite2drone | score=0.15625 | increment=0.009689922480620144 | best_score=0.14656007751937986\n",
      "Completed:  max=[] | sum=[6, 9] | avg=[] | agg=sum | fn=calculate_top_k_accuracy_satelite2drone | score=0.15794573643410853 | increment=0.011385658914728675 | best_score=0.14656007751937986\n",
      "Completed:  max=[] | sum=[6, 10] | avg=[] | agg=sum | fn=calculate_top_k_accuracy_satelite2drone | score=0.15770348837209303 | increment=0.01114341085271317 | best_score=0.14656007751937986\n",
      "Completed:  max=[] | sum=[6, 9, 0] | avg=[] | agg=sum | fn=calculate_top_k_accuracy_satelite2drone | score=0.03561046511627907 | increment=-0.12233527131782945 | best_score=0.15794573643410853\n",
      "Completed:  max=[] | sum=[6, 9, 1] | avg=[] | agg=sum | fn=calculate_top_k_accuracy_satelite2drone | score=0.052083333333333336 | increment=-0.10586240310077519 | best_score=0.15794573643410853\n",
      "Completed:  max=[] | sum=[6, 9, 2] | avg=[] | agg=sum | fn=calculate_top_k_accuracy_satelite2drone | score=0.07800387596899225 | increment=-0.07994186046511628 | best_score=0.15794573643410853\n",
      "Completed:  max=[] | sum=[6, 9, 3] | avg=[] | agg=sum | fn=calculate_top_k_accuracy_satelite2drone | score=0.10513565891472869 | increment=-0.05281007751937984 | best_score=0.15794573643410853\n",
      "Completed:  max=[] | sum=[6, 9, 4] | avg=[] | agg=sum | fn=calculate_top_k_accuracy_satelite2drone | score=0.1252422480620155 | increment=-0.032703488372093026 | best_score=0.15794573643410853\n",
      "Completed:  max=[] | sum=[6, 9, 5] | avg=[] | agg=sum | fn=calculate_top_k_accuracy_satelite2drone | score=0.13953488372093023 | increment=-0.0184108527131783 | best_score=0.15794573643410853\n",
      "Completed:  max=[] | sum=[6, 9, 7] | avg=[] | agg=sum | fn=calculate_top_k_accuracy_satelite2drone | score=0.1560077519379845 | increment=-0.0019379844961240345 | best_score=0.15794573643410853\n",
      "Completed:  max=[] | sum=[6, 9, 8] | avg=[] | agg=sum | fn=calculate_top_k_accuracy_satelite2drone | score=0.1610949612403101 | increment=0.003149224806201556 | best_score=0.15794573643410853\n",
      "Completed:  max=[] | sum=[6, 9, 10] | avg=[] | agg=sum | fn=calculate_top_k_accuracy_satelite2drone | score=0.16279069767441862 | increment=0.004844961240310086 | best_score=0.15794573643410853\n",
      "Completed:  max=[] | sum=[6, 9, 10, 0] | avg=[] | agg=sum | fn=calculate_top_k_accuracy_satelite2drone | score=0.035368217054263566 | increment=-0.12742248062015504 | best_score=0.16279069767441862\n",
      "Completed:  max=[] | sum=[6, 9, 10, 1] | avg=[] | agg=sum | fn=calculate_top_k_accuracy_satelite2drone | score=0.05329457364341085 | increment=-0.10949612403100777 | best_score=0.16279069767441862\n",
      "Completed:  max=[] | sum=[6, 9, 10, 2] | avg=[] | agg=sum | fn=calculate_top_k_accuracy_satelite2drone | score=0.07703488372093023 | increment=-0.08575581395348839 | best_score=0.16279069767441862\n",
      "Completed:  max=[] | sum=[6, 9, 10, 3] | avg=[] | agg=sum | fn=calculate_top_k_accuracy_satelite2drone | score=0.10731589147286821 | increment=-0.0554748062015504 | best_score=0.16279069767441862\n",
      "Completed:  max=[] | sum=[6, 9, 10, 4] | avg=[] | agg=sum | fn=calculate_top_k_accuracy_satelite2drone | score=0.12960271317829458 | increment=-0.033187984496124034 | best_score=0.16279069767441862\n",
      "Completed:  max=[] | sum=[6, 9, 10, 5] | avg=[] | agg=sum | fn=calculate_top_k_accuracy_satelite2drone | score=0.14510658914728683 | increment=-0.017684108527131787 | best_score=0.16279069767441862\n",
      "Completed:  max=[] | sum=[6, 9, 10, 7] | avg=[] | agg=sum | fn=calculate_top_k_accuracy_satelite2drone | score=0.16279069767441862 | increment=0.0 | best_score=0.16279069767441862\n",
      "Completed:  max=[] | sum=[6, 9, 10, 8] | avg=[] | agg=sum | fn=calculate_top_k_accuracy_satelite2drone | score=0.16666666666666666 | increment=0.003875968992248041 | best_score=0.16279069767441862\n",
      "Completed:  max=[] | sum=[6, 9, 10, 8, 0] | avg=[] | agg=sum | fn=calculate_top_k_accuracy_satelite2drone | score=0.035368217054263566 | increment=-0.13129844961240308 | best_score=0.16666666666666666\n",
      "Completed:  max=[] | sum=[6, 9, 10, 8, 1] | avg=[] | agg=sum | fn=calculate_top_k_accuracy_satelite2drone | score=0.05402131782945736 | increment=-0.1126453488372093 | best_score=0.16666666666666666\n",
      "Completed:  max=[] | sum=[6, 9, 10, 8, 2] | avg=[] | agg=sum | fn=calculate_top_k_accuracy_satelite2drone | score=0.07751937984496124 | increment=-0.08914728682170542 | best_score=0.16666666666666666\n",
      "Completed:  max=[] | sum=[6, 9, 10, 8, 3] | avg=[] | agg=sum | fn=calculate_top_k_accuracy_satelite2drone | score=0.10949612403100775 | increment=-0.057170542635658905 | best_score=0.16666666666666666\n",
      "Completed:  max=[] | sum=[6, 9, 10, 8, 4] | avg=[] | agg=sum | fn=calculate_top_k_accuracy_satelite2drone | score=0.13250968992248063 | increment=-0.034156976744186024 | best_score=0.16666666666666666\n",
      "Completed:  max=[] | sum=[6, 9, 10, 8, 5] | avg=[] | agg=sum | fn=calculate_top_k_accuracy_satelite2drone | score=0.15164728682170542 | increment=-0.01501937984496124 | best_score=0.16666666666666666\n",
      "Completed:  max=[] | sum=[6, 9, 10, 8, 7] | avg=[] | agg=sum | fn=calculate_top_k_accuracy_satelite2drone | score=0.16618217054263565 | increment=-0.0004844961240310086 | best_score=0.16666666666666666\n",
      "Completed:  max=[] | sum=[] | avg=[0] | agg=avg | fn=calculate_top_k_accuracy_satelite2drone | score=0.012354651162790697 | increment=0.012354651162790697 | best_score=-inf\n",
      "Completed:  max=[] | sum=[] | avg=[1] | agg=avg | fn=calculate_top_k_accuracy_satelite2drone | score=0.03464147286821705 | increment=0.03464147286821705 | best_score=-inf\n",
      "Completed:  max=[] | sum=[] | avg=[2] | agg=avg | fn=calculate_top_k_accuracy_satelite2drone | score=0.03948643410852713 | increment=0.03948643410852713 | best_score=-inf\n",
      "Completed:  max=[] | sum=[] | avg=[3] | agg=avg | fn=calculate_top_k_accuracy_satelite2drone | score=0.04844961240310078 | increment=0.04844961240310078 | best_score=-inf\n",
      "Completed:  max=[] | sum=[] | avg=[4] | agg=avg | fn=calculate_top_k_accuracy_satelite2drone | score=0.044573643410852716 | increment=0.044573643410852716 | best_score=-inf\n",
      "Completed:  max=[] | sum=[] | avg=[5] | agg=avg | fn=calculate_top_k_accuracy_satelite2drone | score=0.05135658914728682 | increment=0.05135658914728682 | best_score=-inf\n",
      "Completed:  max=[] | sum=[] | avg=[6] | agg=avg | fn=calculate_top_k_accuracy_satelite2drone | score=0.06201550387596899 | increment=0.06201550387596899 | best_score=-inf\n",
      "Completed:  max=[] | sum=[] | avg=[7] | agg=avg | fn=calculate_top_k_accuracy_satelite2drone | score=0.06540697674418605 | increment=0.06540697674418605 | best_score=-inf\n",
      "Completed:  max=[] | sum=[] | avg=[8] | agg=avg | fn=calculate_top_k_accuracy_satelite2drone | score=0.0690406976744186 | increment=0.0690406976744186 | best_score=-inf\n",
      "Completed:  max=[] | sum=[] | avg=[9] | agg=avg | fn=calculate_top_k_accuracy_satelite2drone | score=0.10440891472868218 | increment=0.10440891472868218 | best_score=-inf\n",
      "Completed:  max=[] | sum=[] | avg=[10] | agg=avg | fn=calculate_top_k_accuracy_satelite2drone | score=0.07824612403100775 | increment=0.07824612403100775 | best_score=-inf\n",
      "Completed:  max=[] | sum=[] | avg=[9, 0] | agg=avg | fn=calculate_top_k_accuracy_satelite2drone | score=0.06492248062015504 | increment=-0.03948643410852713 | best_score=0.10440891472868218\n",
      "Completed:  max=[] | sum=[] | avg=[9, 1] | agg=avg | fn=calculate_top_k_accuracy_satelite2drone | score=0.05426356589147287 | increment=-0.05014534883720931 | best_score=0.10440891472868218\n",
      "Completed:  max=[] | sum=[] | avg=[9, 2] | agg=avg | fn=calculate_top_k_accuracy_satelite2drone | score=0.0998062015503876 | increment=-0.004602713178294582 | best_score=0.10440891472868218\n",
      "Completed:  max=[] | sum=[] | avg=[9, 3] | agg=avg | fn=calculate_top_k_accuracy_satelite2drone | score=0.09665697674418605 | increment=-0.007751937984496124 | best_score=0.10440891472868218\n",
      "Completed:  max=[] | sum=[] | avg=[9, 4] | agg=avg | fn=calculate_top_k_accuracy_satelite2drone | score=0.08478682170542635 | increment=-0.01962209302325582 | best_score=0.10440891472868218\n",
      "Completed:  max=[] | sum=[] | avg=[9, 5] | agg=avg | fn=calculate_top_k_accuracy_satelite2drone | score=0.08551356589147287 | increment=-0.018895348837209308 | best_score=0.10440891472868218\n",
      "Completed:  max=[] | sum=[] | avg=[9, 6] | agg=avg | fn=calculate_top_k_accuracy_satelite2drone | score=0.10077519379844961 | increment=-0.0036337209302325646 | best_score=0.10440891472868218\n",
      "Completed:  max=[] | sum=[] | avg=[9, 7] | agg=avg | fn=calculate_top_k_accuracy_satelite2drone | score=0.10319767441860465 | increment=-0.0012112403100775215 | best_score=0.10440891472868218\n",
      "Completed:  max=[] | sum=[] | avg=[9, 8] | agg=avg | fn=calculate_top_k_accuracy_satelite2drone | score=0.09156976744186046 | increment=-0.012839147286821714 | best_score=0.10440891472868218\n",
      "Completed:  max=[] | sum=[] | avg=[9, 10] | agg=avg | fn=calculate_top_k_accuracy_satelite2drone | score=0.0998062015503876 | increment=-0.004602713178294582 | best_score=0.10440891472868218\n"
     ]
    },
    {
     "data": {
      "application/vnd.plotly.v1+json": {
       "config": {
        "plotlyServerURL": "https://plot.ly"
       },
       "data": [
        {
         "mode": "lines+markers",
         "name": "calculate_top_k_accuracy_satelite2drone",
         "showlegend": true,
         "type": "scatter",
         "x": [
          1,
          2,
          3
         ],
         "xaxis": "x",
         "y": [
          0.13662790697674418,
          0.17296511627906977,
          0.17562984496124032
         ],
         "yaxis": "y"
        },
        {
         "mode": "lines+markers",
         "name": "calculate_top_k_accuracy_satelite2drone",
         "showlegend": false,
         "type": "scatter",
         "x": [
          1,
          2,
          3,
          4
         ],
         "xaxis": "x2",
         "y": [
          0.14656007751937986,
          0.15794573643410853,
          0.16279069767441862,
          0.16666666666666666
         ],
         "yaxis": "y2"
        },
        {
         "mode": "lines+markers",
         "name": "calculate_top_k_accuracy_satelite2drone",
         "showlegend": false,
         "type": "scatter",
         "x": [
          1
         ],
         "xaxis": "x3",
         "y": [
          0.10440891472868218
         ],
         "yaxis": "y3"
        }
       ],
       "layout": {
        "annotations": [
         {
          "font": {
           "size": 16
          },
          "showarrow": false,
          "text": "max",
          "x": 0.14444444444444446,
          "xanchor": "center",
          "xref": "paper",
          "y": 1,
          "yanchor": "bottom",
          "yref": "paper"
         },
         {
          "font": {
           "size": 16
          },
          "showarrow": false,
          "text": "sum",
          "x": 0.5,
          "xanchor": "center",
          "xref": "paper",
          "y": 1,
          "yanchor": "bottom",
          "yref": "paper"
         },
         {
          "font": {
           "size": 16
          },
          "showarrow": false,
          "text": "avg",
          "x": 0.8555555555555556,
          "xanchor": "center",
          "xref": "paper",
          "y": 1,
          "yanchor": "bottom",
          "yref": "paper"
         }
        ],
        "template": {
         "data": {
          "bar": [
           {
            "error_x": {
             "color": "#2a3f5f"
            },
            "error_y": {
             "color": "#2a3f5f"
            },
            "marker": {
             "line": {
              "color": "#E5ECF6",
              "width": 0.5
             },
             "pattern": {
              "fillmode": "overlay",
              "size": 10,
              "solidity": 0.2
             }
            },
            "type": "bar"
           }
          ],
          "barpolar": [
           {
            "marker": {
             "line": {
              "color": "#E5ECF6",
              "width": 0.5
             },
             "pattern": {
              "fillmode": "overlay",
              "size": 10,
              "solidity": 0.2
             }
            },
            "type": "barpolar"
           }
          ],
          "carpet": [
           {
            "aaxis": {
             "endlinecolor": "#2a3f5f",
             "gridcolor": "white",
             "linecolor": "white",
             "minorgridcolor": "white",
             "startlinecolor": "#2a3f5f"
            },
            "baxis": {
             "endlinecolor": "#2a3f5f",
             "gridcolor": "white",
             "linecolor": "white",
             "minorgridcolor": "white",
             "startlinecolor": "#2a3f5f"
            },
            "type": "carpet"
           }
          ],
          "choropleth": [
           {
            "colorbar": {
             "outlinewidth": 0,
             "ticks": ""
            },
            "type": "choropleth"
           }
          ],
          "contour": [
           {
            "colorbar": {
             "outlinewidth": 0,
             "ticks": ""
            },
            "colorscale": [
             [
              0,
              "#0d0887"
             ],
             [
              0.1111111111111111,
              "#46039f"
             ],
             [
              0.2222222222222222,
              "#7201a8"
             ],
             [
              0.3333333333333333,
              "#9c179e"
             ],
             [
              0.4444444444444444,
              "#bd3786"
             ],
             [
              0.5555555555555556,
              "#d8576b"
             ],
             [
              0.6666666666666666,
              "#ed7953"
             ],
             [
              0.7777777777777778,
              "#fb9f3a"
             ],
             [
              0.8888888888888888,
              "#fdca26"
             ],
             [
              1,
              "#f0f921"
             ]
            ],
            "type": "contour"
           }
          ],
          "contourcarpet": [
           {
            "colorbar": {
             "outlinewidth": 0,
             "ticks": ""
            },
            "type": "contourcarpet"
           }
          ],
          "heatmap": [
           {
            "colorbar": {
             "outlinewidth": 0,
             "ticks": ""
            },
            "colorscale": [
             [
              0,
              "#0d0887"
             ],
             [
              0.1111111111111111,
              "#46039f"
             ],
             [
              0.2222222222222222,
              "#7201a8"
             ],
             [
              0.3333333333333333,
              "#9c179e"
             ],
             [
              0.4444444444444444,
              "#bd3786"
             ],
             [
              0.5555555555555556,
              "#d8576b"
             ],
             [
              0.6666666666666666,
              "#ed7953"
             ],
             [
              0.7777777777777778,
              "#fb9f3a"
             ],
             [
              0.8888888888888888,
              "#fdca26"
             ],
             [
              1,
              "#f0f921"
             ]
            ],
            "type": "heatmap"
           }
          ],
          "heatmapgl": [
           {
            "colorbar": {
             "outlinewidth": 0,
             "ticks": ""
            },
            "colorscale": [
             [
              0,
              "#0d0887"
             ],
             [
              0.1111111111111111,
              "#46039f"
             ],
             [
              0.2222222222222222,
              "#7201a8"
             ],
             [
              0.3333333333333333,
              "#9c179e"
             ],
             [
              0.4444444444444444,
              "#bd3786"
             ],
             [
              0.5555555555555556,
              "#d8576b"
             ],
             [
              0.6666666666666666,
              "#ed7953"
             ],
             [
              0.7777777777777778,
              "#fb9f3a"
             ],
             [
              0.8888888888888888,
              "#fdca26"
             ],
             [
              1,
              "#f0f921"
             ]
            ],
            "type": "heatmapgl"
           }
          ],
          "histogram": [
           {
            "marker": {
             "pattern": {
              "fillmode": "overlay",
              "size": 10,
              "solidity": 0.2
             }
            },
            "type": "histogram"
           }
          ],
          "histogram2d": [
           {
            "colorbar": {
             "outlinewidth": 0,
             "ticks": ""
            },
            "colorscale": [
             [
              0,
              "#0d0887"
             ],
             [
              0.1111111111111111,
              "#46039f"
             ],
             [
              0.2222222222222222,
              "#7201a8"
             ],
             [
              0.3333333333333333,
              "#9c179e"
             ],
             [
              0.4444444444444444,
              "#bd3786"
             ],
             [
              0.5555555555555556,
              "#d8576b"
             ],
             [
              0.6666666666666666,
              "#ed7953"
             ],
             [
              0.7777777777777778,
              "#fb9f3a"
             ],
             [
              0.8888888888888888,
              "#fdca26"
             ],
             [
              1,
              "#f0f921"
             ]
            ],
            "type": "histogram2d"
           }
          ],
          "histogram2dcontour": [
           {
            "colorbar": {
             "outlinewidth": 0,
             "ticks": ""
            },
            "colorscale": [
             [
              0,
              "#0d0887"
             ],
             [
              0.1111111111111111,
              "#46039f"
             ],
             [
              0.2222222222222222,
              "#7201a8"
             ],
             [
              0.3333333333333333,
              "#9c179e"
             ],
             [
              0.4444444444444444,
              "#bd3786"
             ],
             [
              0.5555555555555556,
              "#d8576b"
             ],
             [
              0.6666666666666666,
              "#ed7953"
             ],
             [
              0.7777777777777778,
              "#fb9f3a"
             ],
             [
              0.8888888888888888,
              "#fdca26"
             ],
             [
              1,
              "#f0f921"
             ]
            ],
            "type": "histogram2dcontour"
           }
          ],
          "mesh3d": [
           {
            "colorbar": {
             "outlinewidth": 0,
             "ticks": ""
            },
            "type": "mesh3d"
           }
          ],
          "parcoords": [
           {
            "line": {
             "colorbar": {
              "outlinewidth": 0,
              "ticks": ""
             }
            },
            "type": "parcoords"
           }
          ],
          "pie": [
           {
            "automargin": true,
            "type": "pie"
           }
          ],
          "scatter": [
           {
            "fillpattern": {
             "fillmode": "overlay",
             "size": 10,
             "solidity": 0.2
            },
            "type": "scatter"
           }
          ],
          "scatter3d": [
           {
            "line": {
             "colorbar": {
              "outlinewidth": 0,
              "ticks": ""
             }
            },
            "marker": {
             "colorbar": {
              "outlinewidth": 0,
              "ticks": ""
             }
            },
            "type": "scatter3d"
           }
          ],
          "scattercarpet": [
           {
            "marker": {
             "colorbar": {
              "outlinewidth": 0,
              "ticks": ""
             }
            },
            "type": "scattercarpet"
           }
          ],
          "scattergeo": [
           {
            "marker": {
             "colorbar": {
              "outlinewidth": 0,
              "ticks": ""
             }
            },
            "type": "scattergeo"
           }
          ],
          "scattergl": [
           {
            "marker": {
             "colorbar": {
              "outlinewidth": 0,
              "ticks": ""
             }
            },
            "type": "scattergl"
           }
          ],
          "scattermapbox": [
           {
            "marker": {
             "colorbar": {
              "outlinewidth": 0,
              "ticks": ""
             }
            },
            "type": "scattermapbox"
           }
          ],
          "scatterpolar": [
           {
            "marker": {
             "colorbar": {
              "outlinewidth": 0,
              "ticks": ""
             }
            },
            "type": "scatterpolar"
           }
          ],
          "scatterpolargl": [
           {
            "marker": {
             "colorbar": {
              "outlinewidth": 0,
              "ticks": ""
             }
            },
            "type": "scatterpolargl"
           }
          ],
          "scatterternary": [
           {
            "marker": {
             "colorbar": {
              "outlinewidth": 0,
              "ticks": ""
             }
            },
            "type": "scatterternary"
           }
          ],
          "surface": [
           {
            "colorbar": {
             "outlinewidth": 0,
             "ticks": ""
            },
            "colorscale": [
             [
              0,
              "#0d0887"
             ],
             [
              0.1111111111111111,
              "#46039f"
             ],
             [
              0.2222222222222222,
              "#7201a8"
             ],
             [
              0.3333333333333333,
              "#9c179e"
             ],
             [
              0.4444444444444444,
              "#bd3786"
             ],
             [
              0.5555555555555556,
              "#d8576b"
             ],
             [
              0.6666666666666666,
              "#ed7953"
             ],
             [
              0.7777777777777778,
              "#fb9f3a"
             ],
             [
              0.8888888888888888,
              "#fdca26"
             ],
             [
              1,
              "#f0f921"
             ]
            ],
            "type": "surface"
           }
          ],
          "table": [
           {
            "cells": {
             "fill": {
              "color": "#EBF0F8"
             },
             "line": {
              "color": "white"
             }
            },
            "header": {
             "fill": {
              "color": "#C8D4E3"
             },
             "line": {
              "color": "white"
             }
            },
            "type": "table"
           }
          ]
         },
         "layout": {
          "annotationdefaults": {
           "arrowcolor": "#2a3f5f",
           "arrowhead": 0,
           "arrowwidth": 1
          },
          "autotypenumbers": "strict",
          "coloraxis": {
           "colorbar": {
            "outlinewidth": 0,
            "ticks": ""
           }
          },
          "colorscale": {
           "diverging": [
            [
             0,
             "#8e0152"
            ],
            [
             0.1,
             "#c51b7d"
            ],
            [
             0.2,
             "#de77ae"
            ],
            [
             0.3,
             "#f1b6da"
            ],
            [
             0.4,
             "#fde0ef"
            ],
            [
             0.5,
             "#f7f7f7"
            ],
            [
             0.6,
             "#e6f5d0"
            ],
            [
             0.7,
             "#b8e186"
            ],
            [
             0.8,
             "#7fbc41"
            ],
            [
             0.9,
             "#4d9221"
            ],
            [
             1,
             "#276419"
            ]
           ],
           "sequential": [
            [
             0,
             "#0d0887"
            ],
            [
             0.1111111111111111,
             "#46039f"
            ],
            [
             0.2222222222222222,
             "#7201a8"
            ],
            [
             0.3333333333333333,
             "#9c179e"
            ],
            [
             0.4444444444444444,
             "#bd3786"
            ],
            [
             0.5555555555555556,
             "#d8576b"
            ],
            [
             0.6666666666666666,
             "#ed7953"
            ],
            [
             0.7777777777777778,
             "#fb9f3a"
            ],
            [
             0.8888888888888888,
             "#fdca26"
            ],
            [
             1,
             "#f0f921"
            ]
           ],
           "sequentialminus": [
            [
             0,
             "#0d0887"
            ],
            [
             0.1111111111111111,
             "#46039f"
            ],
            [
             0.2222222222222222,
             "#7201a8"
            ],
            [
             0.3333333333333333,
             "#9c179e"
            ],
            [
             0.4444444444444444,
             "#bd3786"
            ],
            [
             0.5555555555555556,
             "#d8576b"
            ],
            [
             0.6666666666666666,
             "#ed7953"
            ],
            [
             0.7777777777777778,
             "#fb9f3a"
            ],
            [
             0.8888888888888888,
             "#fdca26"
            ],
            [
             1,
             "#f0f921"
            ]
           ]
          },
          "colorway": [
           "#636efa",
           "#EF553B",
           "#00cc96",
           "#ab63fa",
           "#FFA15A",
           "#19d3f3",
           "#FF6692",
           "#B6E880",
           "#FF97FF",
           "#FECB52"
          ],
          "font": {
           "color": "#2a3f5f"
          },
          "geo": {
           "bgcolor": "white",
           "lakecolor": "white",
           "landcolor": "#E5ECF6",
           "showlakes": true,
           "showland": true,
           "subunitcolor": "white"
          },
          "hoverlabel": {
           "align": "left"
          },
          "hovermode": "closest",
          "mapbox": {
           "style": "light"
          },
          "paper_bgcolor": "white",
          "plot_bgcolor": "#E5ECF6",
          "polar": {
           "angularaxis": {
            "gridcolor": "white",
            "linecolor": "white",
            "ticks": ""
           },
           "bgcolor": "#E5ECF6",
           "radialaxis": {
            "gridcolor": "white",
            "linecolor": "white",
            "ticks": ""
           }
          },
          "scene": {
           "xaxis": {
            "backgroundcolor": "#E5ECF6",
            "gridcolor": "white",
            "gridwidth": 2,
            "linecolor": "white",
            "showbackground": true,
            "ticks": "",
            "zerolinecolor": "white"
           },
           "yaxis": {
            "backgroundcolor": "#E5ECF6",
            "gridcolor": "white",
            "gridwidth": 2,
            "linecolor": "white",
            "showbackground": true,
            "ticks": "",
            "zerolinecolor": "white"
           },
           "zaxis": {
            "backgroundcolor": "#E5ECF6",
            "gridcolor": "white",
            "gridwidth": 2,
            "linecolor": "white",
            "showbackground": true,
            "ticks": "",
            "zerolinecolor": "white"
           }
          },
          "shapedefaults": {
           "line": {
            "color": "#2a3f5f"
           }
          },
          "ternary": {
           "aaxis": {
            "gridcolor": "white",
            "linecolor": "white",
            "ticks": ""
           },
           "baxis": {
            "gridcolor": "white",
            "linecolor": "white",
            "ticks": ""
           },
           "bgcolor": "#E5ECF6",
           "caxis": {
            "gridcolor": "white",
            "linecolor": "white",
            "ticks": ""
           }
          },
          "title": {
           "x": 0.05
          },
          "xaxis": {
           "automargin": true,
           "gridcolor": "white",
           "linecolor": "white",
           "ticks": "",
           "title": {
            "standoff": 15
           },
           "zerolinecolor": "white",
           "zerolinewidth": 2
          },
          "yaxis": {
           "automargin": true,
           "gridcolor": "white",
           "linecolor": "white",
           "ticks": "",
           "title": {
            "standoff": 15
           },
           "zerolinecolor": "white",
           "zerolinewidth": 2
          }
         }
        },
        "title": {
         "text": "Incremental Improvement per Step (accepted layers only)"
        },
        "xaxis": {
         "anchor": "y",
         "domain": [
          0,
          0.2888888888888889
         ],
         "title": {
          "text": "Step"
         }
        },
        "xaxis2": {
         "anchor": "y2",
         "domain": [
          0.35555555555555557,
          0.6444444444444445
         ],
         "title": {
          "text": "Step"
         }
        },
        "xaxis3": {
         "anchor": "y3",
         "domain": [
          0.7111111111111111,
          1
         ],
         "title": {
          "text": "Step"
         }
        },
        "yaxis": {
         "anchor": "x",
         "domain": [
          0,
          1
         ],
         "title": {
          "text": "Increment"
         }
        },
        "yaxis2": {
         "anchor": "x2",
         "domain": [
          0,
          1
         ],
         "matches": "y",
         "showticklabels": false
        },
        "yaxis3": {
         "anchor": "x3",
         "domain": [
          0,
          1
         ],
         "matches": "y",
         "showticklabels": false
        }
       }
      }
     },
     "metadata": {},
     "output_type": "display_data"
    },
    {
     "name": "stdout",
     "output_type": "stream",
     "text": [
      "Selected layers: {'max': [9, 6, 10], 'sum': [6, 9, 10, 8], 'avg': [9]}\n",
      "Final performance: {'max': {'inliers_top1': np.float64(0.051971651826276576), 'inliers_top5': np.float64(0.1421043067417772), 'outliers_top1': np.float64(0.17562984496124032), 'outliers_top5': np.float64(0.3234011627906977)}, 'sum': {'inliers_top1': np.float64(0.04718638318492943), 'inliers_top5': np.float64(0.12302380519716519), 'outliers_top1': np.float64(0.16666666666666666), 'outliers_top5': np.float64(0.3028100775193798)}, 'avg': {'inliers_top1': np.float64(0.04240111454358229), 'inliers_top5': np.float64(0.11460415530922527), 'outliers_top1': np.float64(0.10440891472868218), 'outliers_top5': np.float64(0.22214147286821706)}}\n"
     ]
    }
   ],
   "source": [
    "# List of performance metric functions to consider\n",
    "metric_functions = [\n",
    "    calculate_top_k_accuracy_satelite2drone,\n",
    "]\n",
    "\n",
    "selected_layers, final_perf, df_trace = run_layer_selection(metric_functions, contamination=0.2)\n",
    "\n",
    "df_trace.to_csv('data/df_trace_satelite2drone.csv', index=False)\n",
    "\n",
    "print(\"Selected layers:\", selected_layers)\n",
    "print(\"Final performance:\", final_perf)"
   ]
  },
  {
   "cell_type": "code",
   "execution_count": 4,
   "metadata": {},
   "outputs": [
    {
     "data": {
      "text/plain": [
       "{'inliers_top1': np.float64(0.05142649463928766),\n",
       " 'inliers_top5': np.float64(0.14028711611848083),\n",
       " 'outliers_top1': np.float64(0.17781007751937986),\n",
       " 'outliers_top5': np.float64(0.33066860465116277)}"
      ]
     },
     "execution_count": 4,
     "metadata": {},
     "output_type": "execute_result"
    }
   ],
   "source": [
    "calculate_top_k_accuracy_satelite2drone(\n",
    "    max_indicies= [9, 10, 6],\n",
    "    sum_indicies= [],\n",
    "    avg_indicies= [],\n",
    "    localisation_radius = 3,\n",
    "    contamination=0.2\n",
    ")"
   ]
  },
  {
   "cell_type": "code",
   "execution_count": 5,
   "metadata": {},
   "outputs": [
    {
     "data": {
      "text/plain": [
       "{'inliers_top1': np.float64(0.04809497849657762),\n",
       " 'inliers_top5': np.float64(0.12932339935792597),\n",
       " 'outliers_top1': np.float64(0.17102713178294573),\n",
       " 'outliers_top5': np.float64(0.31031976744186046)}"
      ]
     },
     "execution_count": 5,
     "metadata": {},
     "output_type": "execute_result"
    }
   ],
   "source": [
    "calculate_top_k_accuracy_satelite2drone(\n",
    "    max_indicies= [9, 10, 6],\n",
    "    sum_indicies= [6, 9, 10, 8],\n",
    "    avg_indicies= [],\n",
    "    localisation_radius = 3,\n",
    "    contamination=0.2\n",
    ")"
   ]
  },
  {
   "cell_type": "code",
   "execution_count": null,
   "metadata": {},
   "outputs": [
    {
     "data": {
      "text/plain": [
       "{'inliers_top1': np.float64(0.047913259434247985),\n",
       " 'inliers_top5': np.float64(0.13701617299654734),\n",
       " 'outliers_top1': np.float64(0.11991279069767442),\n",
       " 'outliers_top5': np.float64(0.25726744186046513)}"
      ]
     },
     "execution_count": 11,
     "metadata": {},
     "output_type": "execute_result"
    }
   ],
   "source": [
    "calculate_top_k_accuracy_satelite2drone(\n",
    "    max_indicies= [9, 10, 6],\n",
    "    sum_indicies= [],\n",
    "    avg_indicies= [5, 9],\n",
    "    localisation_radius = 3,\n",
    "    contamination=0.2\n",
    ")"
   ]
  },
  {
   "cell_type": "code",
   "execution_count": 89,
   "metadata": {},
   "outputs": [
    {
     "name": "stdout",
     "output_type": "stream",
     "text": [
      "Completed:  max=[0] | sum=[] | avg=[] | agg=max | fn=calculate_top_k_accuracy_satelite2satelite | score=0.17054263565891473 | increment=0.17054263565891473 | best_score=-inf\n",
      "Completed:  max=[1] | sum=[] | avg=[] | agg=max | fn=calculate_top_k_accuracy_satelite2satelite | score=0.32194767441860467 | increment=0.32194767441860467 | best_score=-inf\n",
      "Completed:  max=[2] | sum=[] | avg=[] | agg=max | fn=calculate_top_k_accuracy_satelite2satelite | score=0.6303294573643411 | increment=0.6303294573643411 | best_score=-inf\n",
      "Completed:  max=[3] | sum=[] | avg=[] | agg=max | fn=calculate_top_k_accuracy_satelite2satelite | score=0.5469961240310077 | increment=0.5469961240310077 | best_score=-inf\n",
      "Completed:  max=[4] | sum=[] | avg=[] | agg=max | fn=calculate_top_k_accuracy_satelite2satelite | score=0.6954941860465116 | increment=0.6954941860465116 | best_score=-inf\n",
      "Completed:  max=[5] | sum=[] | avg=[] | agg=max | fn=calculate_top_k_accuracy_satelite2satelite | score=0.6921027131782945 | increment=0.6921027131782945 | best_score=-inf\n",
      "Completed:  max=[6] | sum=[] | avg=[] | agg=max | fn=calculate_top_k_accuracy_satelite2satelite | score=0.75390625 | increment=0.75390625 | best_score=-inf\n",
      "Completed:  max=[7] | sum=[] | avg=[] | agg=max | fn=calculate_top_k_accuracy_satelite2satelite | score=0.716327519379845 | increment=0.716327519379845 | best_score=-inf\n",
      "Completed:  max=[8] | sum=[] | avg=[] | agg=max | fn=calculate_top_k_accuracy_satelite2satelite | score=0.7439437984496124 | increment=0.7439437984496124 | best_score=-inf\n",
      "Completed:  max=[9] | sum=[] | avg=[] | agg=max | fn=calculate_top_k_accuracy_satelite2satelite | score=0.8747577519379846 | increment=0.8747577519379846 | best_score=-inf\n",
      "Completed:  max=[10] | sum=[] | avg=[] | agg=max | fn=calculate_top_k_accuracy_satelite2satelite | score=0.8638565891472868 | increment=0.8638565891472868 | best_score=-inf\n",
      "Completed:  max=[9, 0] | sum=[] | avg=[] | agg=max | fn=calculate_top_k_accuracy_satelite2satelite | score=0.3125 | increment=-0.5622577519379846 | best_score=0.8747577519379846\n",
      "Completed:  max=[9, 1] | sum=[] | avg=[] | agg=max | fn=calculate_top_k_accuracy_satelite2satelite | score=0.3372093023255814 | increment=-0.5375484496124032 | best_score=0.8747577519379846\n",
      "Completed:  max=[9, 2] | sum=[] | avg=[] | agg=max | fn=calculate_top_k_accuracy_satelite2satelite | score=0.8163759689922481 | increment=-0.05838178294573648 | best_score=0.8747577519379846\n",
      "Completed:  max=[9, 3] | sum=[] | avg=[] | agg=max | fn=calculate_top_k_accuracy_satelite2satelite | score=0.8122577519379846 | increment=-0.0625 | best_score=0.8747577519379846\n",
      "Completed:  max=[9, 4] | sum=[] | avg=[] | agg=max | fn=calculate_top_k_accuracy_satelite2satelite | score=0.8648255813953488 | increment=-0.009932170542635732 | best_score=0.8747577519379846\n",
      "Completed:  max=[9, 5] | sum=[] | avg=[] | agg=max | fn=calculate_top_k_accuracy_satelite2satelite | score=0.8214631782945736 | increment=-0.05329457364341095 | best_score=0.8747577519379846\n",
      "Completed:  max=[9, 6] | sum=[] | avg=[] | agg=max | fn=calculate_top_k_accuracy_satelite2satelite | score=0.8471414728682171 | increment=-0.02761627906976749 | best_score=0.8747577519379846\n",
      "Completed:  max=[9, 7] | sum=[] | avg=[] | agg=max | fn=calculate_top_k_accuracy_satelite2satelite | score=0.7955426356589147 | increment=-0.07921511627906985 | best_score=0.8747577519379846\n",
      "Completed:  max=[9, 8] | sum=[] | avg=[] | agg=max | fn=calculate_top_k_accuracy_satelite2satelite | score=0.7887596899224806 | increment=-0.08599806201550397 | best_score=0.8747577519379846\n",
      "Completed:  max=[9, 10] | sum=[] | avg=[] | agg=max | fn=calculate_top_k_accuracy_satelite2satelite | score=0.8866279069767442 | increment=0.011870155038759655 | best_score=0.8747577519379846\n",
      "Completed:  max=[9, 10, 0] | sum=[] | avg=[] | agg=max | fn=calculate_top_k_accuracy_satelite2satelite | score=0.46487403100775193 | increment=-0.4217538759689923 | best_score=0.8866279069767442\n",
      "Completed:  max=[9, 10, 1] | sum=[] | avg=[] | agg=max | fn=calculate_top_k_accuracy_satelite2satelite | score=0.3481104651162791 | increment=-0.5385174418604651 | best_score=0.8866279069767442\n",
      "Completed:  max=[9, 10, 2] | sum=[] | avg=[] | agg=max | fn=calculate_top_k_accuracy_satelite2satelite | score=0.8604651162790697 | increment=-0.026162790697674465 | best_score=0.8866279069767442\n",
      "Completed:  max=[9, 10, 3] | sum=[] | avg=[] | agg=max | fn=calculate_top_k_accuracy_satelite2satelite | score=0.8684593023255814 | increment=-0.018168604651162767 | best_score=0.8866279069767442\n",
      "Completed:  max=[9, 10, 4] | sum=[] | avg=[] | agg=max | fn=calculate_top_k_accuracy_satelite2satelite | score=0.8909883720930233 | increment=0.0043604651162790775 | best_score=0.8866279069767442\n",
      "Completed:  max=[9, 10, 5] | sum=[] | avg=[] | agg=max | fn=calculate_top_k_accuracy_satelite2satelite | score=0.8594961240310077 | increment=-0.027131782945736482 | best_score=0.8866279069767442\n",
      "Completed:  max=[9, 10, 6] | sum=[] | avg=[] | agg=max | fn=calculate_top_k_accuracy_satelite2satelite | score=0.877422480620155 | increment=-0.009205426356589164 | best_score=0.8866279069767442\n",
      "Completed:  max=[9, 10, 7] | sum=[] | avg=[] | agg=max | fn=calculate_top_k_accuracy_satelite2satelite | score=0.8323643410852714 | increment=-0.054263565891472854 | best_score=0.8866279069767442\n",
      "Completed:  max=[9, 10, 8] | sum=[] | avg=[] | agg=max | fn=calculate_top_k_accuracy_satelite2satelite | score=0.8260658914728682 | increment=-0.060562015503875966 | best_score=0.8866279069767442\n",
      "Completed:  max=[9, 10, 4, 0] | sum=[] | avg=[] | agg=max | fn=calculate_top_k_accuracy_satelite2satelite | score=0.5792151162790697 | increment=-0.31177325581395354 | best_score=0.8909883720930233\n",
      "Completed:  max=[9, 10, 4, 1] | sum=[] | avg=[] | agg=max | fn=calculate_top_k_accuracy_satelite2satelite | score=0.37718023255813954 | increment=-0.5138081395348837 | best_score=0.8909883720930233\n",
      "Completed:  max=[9, 10, 4, 2] | sum=[] | avg=[] | agg=max | fn=calculate_top_k_accuracy_satelite2satelite | score=0.8703972868217055 | increment=-0.02059108527131781 | best_score=0.8909883720930233\n",
      "Completed:  max=[9, 10, 4, 3] | sum=[] | avg=[] | agg=max | fn=calculate_top_k_accuracy_satelite2satelite | score=0.8687015503875969 | increment=-0.022286821705426396 | best_score=0.8909883720930233\n",
      "Completed:  max=[9, 10, 4, 5] | sum=[] | avg=[] | agg=max | fn=calculate_top_k_accuracy_satelite2satelite | score=0.8667635658914729 | increment=-0.02422480620155043 | best_score=0.8909883720930233\n",
      "Completed:  max=[9, 10, 4, 6] | sum=[] | avg=[] | agg=max | fn=calculate_top_k_accuracy_satelite2satelite | score=0.8808139534883721 | increment=-0.01017441860465118 | best_score=0.8909883720930233\n",
      "Completed:  max=[9, 10, 4, 7] | sum=[] | avg=[] | agg=max | fn=calculate_top_k_accuracy_satelite2satelite | score=0.8708817829457365 | increment=-0.020106589147286802 | best_score=0.8909883720930233\n",
      "Completed:  max=[9, 10, 4, 8] | sum=[] | avg=[] | agg=max | fn=calculate_top_k_accuracy_satelite2satelite | score=0.8558624031007752 | increment=-0.03512596899224807 | best_score=0.8909883720930233\n",
      "Completed:  max=[] | sum=[0] | avg=[] | agg=sum | fn=calculate_top_k_accuracy_satelite2satelite | score=0.5099321705426356 | increment=0.5099321705426356 | best_score=-inf\n",
      "Completed:  max=[] | sum=[1] | avg=[] | agg=sum | fn=calculate_top_k_accuracy_satelite2satelite | score=0.5804263565891473 | increment=0.5804263565891473 | best_score=-inf\n",
      "Completed:  max=[] | sum=[2] | avg=[] | agg=sum | fn=calculate_top_k_accuracy_satelite2satelite | score=0.6630329457364341 | increment=0.6630329457364341 | best_score=-inf\n",
      "Completed:  max=[] | sum=[3] | avg=[] | agg=sum | fn=calculate_top_k_accuracy_satelite2satelite | score=0.6523740310077519 | increment=0.6523740310077519 | best_score=-inf\n",
      "Completed:  max=[] | sum=[4] | avg=[] | agg=sum | fn=calculate_top_k_accuracy_satelite2satelite | score=0.7403100775193798 | increment=0.7403100775193798 | best_score=-inf\n",
      "Completed:  max=[] | sum=[5] | avg=[] | agg=sum | fn=calculate_top_k_accuracy_satelite2satelite | score=0.7175387596899225 | increment=0.7175387596899225 | best_score=-inf\n",
      "Completed:  max=[] | sum=[6] | avg=[] | agg=sum | fn=calculate_top_k_accuracy_satelite2satelite | score=0.749031007751938 | increment=0.749031007751938 | best_score=-inf\n",
      "Completed:  max=[] | sum=[7] | avg=[] | agg=sum | fn=calculate_top_k_accuracy_satelite2satelite | score=0.7214147286821705 | increment=0.7214147286821705 | best_score=-inf\n",
      "Completed:  max=[] | sum=[8] | avg=[] | agg=sum | fn=calculate_top_k_accuracy_satelite2satelite | score=0.6935562015503876 | increment=0.6935562015503876 | best_score=-inf\n",
      "Completed:  max=[] | sum=[9] | avg=[] | agg=sum | fn=calculate_top_k_accuracy_satelite2satelite | score=0.7914244186046512 | increment=0.7914244186046512 | best_score=-inf\n",
      "Completed:  max=[] | sum=[10] | avg=[] | agg=sum | fn=calculate_top_k_accuracy_satelite2satelite | score=0.8103197674418605 | increment=0.8103197674418605 | best_score=-inf\n",
      "Completed:  max=[] | sum=[10, 0] | avg=[] | agg=sum | fn=calculate_top_k_accuracy_satelite2satelite | score=0.5474806201550387 | increment=-0.2628391472868218 | best_score=0.8103197674418605\n",
      "Completed:  max=[] | sum=[10, 1] | avg=[] | agg=sum | fn=calculate_top_k_accuracy_satelite2satelite | score=0.6213662790697675 | increment=-0.18895348837209303 | best_score=0.8103197674418605\n",
      "Completed:  max=[] | sum=[10, 2] | avg=[] | agg=sum | fn=calculate_top_k_accuracy_satelite2satelite | score=0.6756298449612403 | increment=-0.13468992248062017 | best_score=0.8103197674418605\n",
      "Completed:  max=[] | sum=[10, 3] | avg=[] | agg=sum | fn=calculate_top_k_accuracy_satelite2satelite | score=0.6640019379844961 | increment=-0.14631782945736438 | best_score=0.8103197674418605\n",
      "Completed:  max=[] | sum=[10, 4] | avg=[] | agg=sum | fn=calculate_top_k_accuracy_satelite2satelite | score=0.7601744186046512 | increment=-0.050145348837209336 | best_score=0.8103197674418605\n",
      "Completed:  max=[] | sum=[10, 5] | avg=[] | agg=sum | fn=calculate_top_k_accuracy_satelite2satelite | score=0.7572674418604651 | increment=-0.05305232558139539 | best_score=0.8103197674418605\n",
      "Completed:  max=[] | sum=[10, 6] | avg=[] | agg=sum | fn=calculate_top_k_accuracy_satelite2satelite | score=0.7957848837209303 | increment=-0.014534883720930258 | best_score=0.8103197674418605\n",
      "Completed:  max=[] | sum=[10, 7] | avg=[] | agg=sum | fn=calculate_top_k_accuracy_satelite2satelite | score=0.8059593023255814 | increment=-0.0043604651162790775 | best_score=0.8103197674418605\n",
      "Completed:  max=[] | sum=[10, 8] | avg=[] | agg=sum | fn=calculate_top_k_accuracy_satelite2satelite | score=0.7693798449612403 | increment=-0.04093992248062017 | best_score=0.8103197674418605\n",
      "Completed:  max=[] | sum=[10, 9] | avg=[] | agg=sum | fn=calculate_top_k_accuracy_satelite2satelite | score=0.8236434108527132 | increment=0.013323643410852681 | best_score=0.8103197674418605\n",
      "Completed:  max=[] | sum=[10, 9, 0] | avg=[] | agg=sum | fn=calculate_top_k_accuracy_satelite2satelite | score=0.5515988372093024 | increment=-0.27204457364341084 | best_score=0.8236434108527132\n",
      "Completed:  max=[] | sum=[10, 9, 1] | avg=[] | agg=sum | fn=calculate_top_k_accuracy_satelite2satelite | score=0.6242732558139535 | increment=-0.19937015503875966 | best_score=0.8236434108527132\n",
      "Completed:  max=[] | sum=[10, 9, 2] | avg=[] | agg=sum | fn=calculate_top_k_accuracy_satelite2satelite | score=0.6824127906976745 | increment=-0.14123062015503873 | best_score=0.8236434108527132\n",
      "Completed:  max=[] | sum=[10, 9, 3] | avg=[] | agg=sum | fn=calculate_top_k_accuracy_satelite2satelite | score=0.6707848837209303 | increment=-0.15285852713178294 | best_score=0.8236434108527132\n",
      "Completed:  max=[] | sum=[10, 9, 4] | avg=[] | agg=sum | fn=calculate_top_k_accuracy_satelite2satelite | score=0.7725290697674418 | increment=-0.05111434108527135 | best_score=0.8236434108527132\n",
      "Completed:  max=[] | sum=[10, 9, 5] | avg=[] | agg=sum | fn=calculate_top_k_accuracy_satelite2satelite | score=0.7693798449612403 | increment=-0.054263565891472854 | best_score=0.8236434108527132\n",
      "Completed:  max=[] | sum=[10, 9, 6] | avg=[] | agg=sum | fn=calculate_top_k_accuracy_satelite2satelite | score=0.8013565891472868 | increment=-0.022286821705426396 | best_score=0.8236434108527132\n",
      "Completed:  max=[] | sum=[10, 9, 7] | avg=[] | agg=sum | fn=calculate_top_k_accuracy_satelite2satelite | score=0.815406976744186 | increment=-0.008236434108527146 | best_score=0.8236434108527132\n",
      "Completed:  max=[] | sum=[10, 9, 8] | avg=[] | agg=sum | fn=calculate_top_k_accuracy_satelite2satelite | score=0.784156976744186 | increment=-0.039486434108527146 | best_score=0.8236434108527132\n",
      "Completed:  max=[] | sum=[] | avg=[0] | agg=avg | fn=calculate_top_k_accuracy_satelite2satelite | score=0.6332364341085271 | increment=0.6332364341085271 | best_score=-inf\n",
      "Completed:  max=[] | sum=[] | avg=[1] | agg=avg | fn=calculate_top_k_accuracy_satelite2satelite | score=0.594718992248062 | increment=0.594718992248062 | best_score=-inf\n",
      "Completed:  max=[] | sum=[] | avg=[2] | agg=avg | fn=calculate_top_k_accuracy_satelite2satelite | score=0.7713178294573644 | increment=0.7713178294573644 | best_score=-inf\n",
      "Completed:  max=[] | sum=[] | avg=[3] | agg=avg | fn=calculate_top_k_accuracy_satelite2satelite | score=0.6773255813953488 | increment=0.6773255813953488 | best_score=-inf\n",
      "Completed:  max=[] | sum=[] | avg=[4] | agg=avg | fn=calculate_top_k_accuracy_satelite2satelite | score=0.6901647286821705 | increment=0.6901647286821705 | best_score=-inf\n",
      "Completed:  max=[] | sum=[] | avg=[5] | agg=avg | fn=calculate_top_k_accuracy_satelite2satelite | score=0.5576550387596899 | increment=0.5576550387596899 | best_score=-inf\n",
      "Completed:  max=[] | sum=[] | avg=[6] | agg=avg | fn=calculate_top_k_accuracy_satelite2satelite | score=0.5574127906976745 | increment=0.5574127906976745 | best_score=-inf\n",
      "Completed:  max=[] | sum=[] | avg=[7] | agg=avg | fn=calculate_top_k_accuracy_satelite2satelite | score=0.5576550387596899 | increment=0.5576550387596899 | best_score=-inf\n",
      "Completed:  max=[] | sum=[] | avg=[8] | agg=avg | fn=calculate_top_k_accuracy_satelite2satelite | score=0.5707364341085271 | increment=0.5707364341085271 | best_score=-inf\n",
      "Completed:  max=[] | sum=[] | avg=[9] | agg=avg | fn=calculate_top_k_accuracy_satelite2satelite | score=0.8578003875968992 | increment=0.8578003875968992 | best_score=-inf\n",
      "Completed:  max=[] | sum=[] | avg=[10] | agg=avg | fn=calculate_top_k_accuracy_satelite2satelite | score=0.8558624031007752 | increment=0.8558624031007752 | best_score=-inf\n",
      "Completed:  max=[] | sum=[] | avg=[9, 0] | agg=avg | fn=calculate_top_k_accuracy_satelite2satelite | score=0.8178294573643411 | increment=-0.039970930232558155 | best_score=0.8578003875968992\n",
      "Completed:  max=[] | sum=[] | avg=[9, 1] | agg=avg | fn=calculate_top_k_accuracy_satelite2satelite | score=0.7732558139534884 | increment=-0.08454457364341084 | best_score=0.8578003875968992\n",
      "Completed:  max=[] | sum=[] | avg=[9, 2] | agg=avg | fn=calculate_top_k_accuracy_satelite2satelite | score=0.8410852713178295 | increment=-0.01671511627906974 | best_score=0.8578003875968992\n",
      "Completed:  max=[] | sum=[] | avg=[9, 3] | agg=avg | fn=calculate_top_k_accuracy_satelite2satelite | score=0.8306686046511628 | increment=-0.027131782945736482 | best_score=0.8578003875968992\n",
      "Completed:  max=[] | sum=[] | avg=[9, 4] | agg=avg | fn=calculate_top_k_accuracy_satelite2satelite | score=0.7516957364341085 | increment=-0.10610465116279078 | best_score=0.8578003875968992\n",
      "Completed:  max=[] | sum=[] | avg=[9, 5] | agg=avg | fn=calculate_top_k_accuracy_satelite2satelite | score=0.6848352713178295 | increment=-0.17296511627906974 | best_score=0.8578003875968992\n",
      "Completed:  max=[] | sum=[] | avg=[9, 6] | agg=avg | fn=calculate_top_k_accuracy_satelite2satelite | score=0.6722383720930233 | increment=-0.18556201550387597 | best_score=0.8578003875968992\n",
      "Completed:  max=[] | sum=[] | avg=[9, 7] | agg=avg | fn=calculate_top_k_accuracy_satelite2satelite | score=0.6967054263565892 | increment=-0.1610949612403101 | best_score=0.8578003875968992\n",
      "Completed:  max=[] | sum=[] | avg=[9, 8] | agg=avg | fn=calculate_top_k_accuracy_satelite2satelite | score=0.6698158914728682 | increment=-0.187984496124031 | best_score=0.8578003875968992\n",
      "Completed:  max=[] | sum=[] | avg=[9, 10] | agg=avg | fn=calculate_top_k_accuracy_satelite2satelite | score=0.8946220930232558 | increment=0.036821705426356544 | best_score=0.8578003875968992\n",
      "Completed:  max=[] | sum=[] | avg=[9, 10, 0] | agg=avg | fn=calculate_top_k_accuracy_satelite2satelite | score=0.8737887596899225 | increment=-0.02083333333333326 | best_score=0.8946220930232558\n",
      "Completed:  max=[] | sum=[] | avg=[9, 10, 1] | agg=avg | fn=calculate_top_k_accuracy_satelite2satelite | score=0.809593023255814 | increment=-0.08502906976744184 | best_score=0.8946220930232558\n",
      "Completed:  max=[] | sum=[] | avg=[9, 10, 2] | agg=avg | fn=calculate_top_k_accuracy_satelite2satelite | score=0.8689437984496124 | increment=-0.025678294573643345 | best_score=0.8946220930232558\n",
      "Completed:  max=[] | sum=[] | avg=[9, 10, 3] | agg=avg | fn=calculate_top_k_accuracy_satelite2satelite | score=0.8648255813953488 | increment=-0.029796511627906974 | best_score=0.8946220930232558\n",
      "Completed:  max=[] | sum=[] | avg=[9, 10, 4] | agg=avg | fn=calculate_top_k_accuracy_satelite2satelite | score=0.8200096899224806 | increment=-0.07461240310077522 | best_score=0.8946220930232558\n",
      "Completed:  max=[] | sum=[] | avg=[9, 10, 5] | agg=avg | fn=calculate_top_k_accuracy_satelite2satelite | score=0.7824612403100775 | increment=-0.11216085271317833 | best_score=0.8946220930232558\n",
      "Completed:  max=[] | sum=[] | avg=[9, 10, 6] | agg=avg | fn=calculate_top_k_accuracy_satelite2satelite | score=0.7839147286821705 | increment=-0.1107073643410853 | best_score=0.8946220930232558\n",
      "Completed:  max=[] | sum=[] | avg=[9, 10, 7] | agg=avg | fn=calculate_top_k_accuracy_satelite2satelite | score=0.8001453488372093 | increment=-0.09447674418604646 | best_score=0.8946220930232558\n",
      "Completed:  max=[] | sum=[] | avg=[9, 10, 8] | agg=avg | fn=calculate_top_k_accuracy_satelite2satelite | score=0.7638081395348837 | increment=-0.1308139534883721 | best_score=0.8946220930232558\n"
     ]
    },
    {
     "data": {
      "application/vnd.plotly.v1+json": {
       "config": {
        "plotlyServerURL": "https://plot.ly"
       },
       "data": [
        {
         "mode": "lines+markers",
         "name": "calculate_top_k_accuracy_satelite2satelite",
         "showlegend": true,
         "type": "scatter",
         "x": [
          1,
          2,
          3
         ],
         "xaxis": "x",
         "y": [
          0.8747577519379846,
          0.8866279069767442,
          0.8909883720930233
         ],
         "yaxis": "y"
        },
        {
         "mode": "lines+markers",
         "name": "calculate_top_k_accuracy_satelite2satelite",
         "showlegend": false,
         "type": "scatter",
         "x": [
          1,
          2
         ],
         "xaxis": "x2",
         "y": [
          0.8103197674418605,
          0.8236434108527132
         ],
         "yaxis": "y2"
        },
        {
         "mode": "lines+markers",
         "name": "calculate_top_k_accuracy_satelite2satelite",
         "showlegend": false,
         "type": "scatter",
         "x": [
          1,
          2
         ],
         "xaxis": "x3",
         "y": [
          0.8578003875968992,
          0.8946220930232558
         ],
         "yaxis": "y3"
        }
       ],
       "layout": {
        "annotations": [
         {
          "font": {
           "size": 16
          },
          "showarrow": false,
          "text": "max",
          "x": 0.14444444444444446,
          "xanchor": "center",
          "xref": "paper",
          "y": 1,
          "yanchor": "bottom",
          "yref": "paper"
         },
         {
          "font": {
           "size": 16
          },
          "showarrow": false,
          "text": "sum",
          "x": 0.5,
          "xanchor": "center",
          "xref": "paper",
          "y": 1,
          "yanchor": "bottom",
          "yref": "paper"
         },
         {
          "font": {
           "size": 16
          },
          "showarrow": false,
          "text": "avg",
          "x": 0.8555555555555556,
          "xanchor": "center",
          "xref": "paper",
          "y": 1,
          "yanchor": "bottom",
          "yref": "paper"
         }
        ],
        "template": {
         "data": {
          "bar": [
           {
            "error_x": {
             "color": "#2a3f5f"
            },
            "error_y": {
             "color": "#2a3f5f"
            },
            "marker": {
             "line": {
              "color": "#E5ECF6",
              "width": 0.5
             },
             "pattern": {
              "fillmode": "overlay",
              "size": 10,
              "solidity": 0.2
             }
            },
            "type": "bar"
           }
          ],
          "barpolar": [
           {
            "marker": {
             "line": {
              "color": "#E5ECF6",
              "width": 0.5
             },
             "pattern": {
              "fillmode": "overlay",
              "size": 10,
              "solidity": 0.2
             }
            },
            "type": "barpolar"
           }
          ],
          "carpet": [
           {
            "aaxis": {
             "endlinecolor": "#2a3f5f",
             "gridcolor": "white",
             "linecolor": "white",
             "minorgridcolor": "white",
             "startlinecolor": "#2a3f5f"
            },
            "baxis": {
             "endlinecolor": "#2a3f5f",
             "gridcolor": "white",
             "linecolor": "white",
             "minorgridcolor": "white",
             "startlinecolor": "#2a3f5f"
            },
            "type": "carpet"
           }
          ],
          "choropleth": [
           {
            "colorbar": {
             "outlinewidth": 0,
             "ticks": ""
            },
            "type": "choropleth"
           }
          ],
          "contour": [
           {
            "colorbar": {
             "outlinewidth": 0,
             "ticks": ""
            },
            "colorscale": [
             [
              0,
              "#0d0887"
             ],
             [
              0.1111111111111111,
              "#46039f"
             ],
             [
              0.2222222222222222,
              "#7201a8"
             ],
             [
              0.3333333333333333,
              "#9c179e"
             ],
             [
              0.4444444444444444,
              "#bd3786"
             ],
             [
              0.5555555555555556,
              "#d8576b"
             ],
             [
              0.6666666666666666,
              "#ed7953"
             ],
             [
              0.7777777777777778,
              "#fb9f3a"
             ],
             [
              0.8888888888888888,
              "#fdca26"
             ],
             [
              1,
              "#f0f921"
             ]
            ],
            "type": "contour"
           }
          ],
          "contourcarpet": [
           {
            "colorbar": {
             "outlinewidth": 0,
             "ticks": ""
            },
            "type": "contourcarpet"
           }
          ],
          "heatmap": [
           {
            "colorbar": {
             "outlinewidth": 0,
             "ticks": ""
            },
            "colorscale": [
             [
              0,
              "#0d0887"
             ],
             [
              0.1111111111111111,
              "#46039f"
             ],
             [
              0.2222222222222222,
              "#7201a8"
             ],
             [
              0.3333333333333333,
              "#9c179e"
             ],
             [
              0.4444444444444444,
              "#bd3786"
             ],
             [
              0.5555555555555556,
              "#d8576b"
             ],
             [
              0.6666666666666666,
              "#ed7953"
             ],
             [
              0.7777777777777778,
              "#fb9f3a"
             ],
             [
              0.8888888888888888,
              "#fdca26"
             ],
             [
              1,
              "#f0f921"
             ]
            ],
            "type": "heatmap"
           }
          ],
          "heatmapgl": [
           {
            "colorbar": {
             "outlinewidth": 0,
             "ticks": ""
            },
            "colorscale": [
             [
              0,
              "#0d0887"
             ],
             [
              0.1111111111111111,
              "#46039f"
             ],
             [
              0.2222222222222222,
              "#7201a8"
             ],
             [
              0.3333333333333333,
              "#9c179e"
             ],
             [
              0.4444444444444444,
              "#bd3786"
             ],
             [
              0.5555555555555556,
              "#d8576b"
             ],
             [
              0.6666666666666666,
              "#ed7953"
             ],
             [
              0.7777777777777778,
              "#fb9f3a"
             ],
             [
              0.8888888888888888,
              "#fdca26"
             ],
             [
              1,
              "#f0f921"
             ]
            ],
            "type": "heatmapgl"
           }
          ],
          "histogram": [
           {
            "marker": {
             "pattern": {
              "fillmode": "overlay",
              "size": 10,
              "solidity": 0.2
             }
            },
            "type": "histogram"
           }
          ],
          "histogram2d": [
           {
            "colorbar": {
             "outlinewidth": 0,
             "ticks": ""
            },
            "colorscale": [
             [
              0,
              "#0d0887"
             ],
             [
              0.1111111111111111,
              "#46039f"
             ],
             [
              0.2222222222222222,
              "#7201a8"
             ],
             [
              0.3333333333333333,
              "#9c179e"
             ],
             [
              0.4444444444444444,
              "#bd3786"
             ],
             [
              0.5555555555555556,
              "#d8576b"
             ],
             [
              0.6666666666666666,
              "#ed7953"
             ],
             [
              0.7777777777777778,
              "#fb9f3a"
             ],
             [
              0.8888888888888888,
              "#fdca26"
             ],
             [
              1,
              "#f0f921"
             ]
            ],
            "type": "histogram2d"
           }
          ],
          "histogram2dcontour": [
           {
            "colorbar": {
             "outlinewidth": 0,
             "ticks": ""
            },
            "colorscale": [
             [
              0,
              "#0d0887"
             ],
             [
              0.1111111111111111,
              "#46039f"
             ],
             [
              0.2222222222222222,
              "#7201a8"
             ],
             [
              0.3333333333333333,
              "#9c179e"
             ],
             [
              0.4444444444444444,
              "#bd3786"
             ],
             [
              0.5555555555555556,
              "#d8576b"
             ],
             [
              0.6666666666666666,
              "#ed7953"
             ],
             [
              0.7777777777777778,
              "#fb9f3a"
             ],
             [
              0.8888888888888888,
              "#fdca26"
             ],
             [
              1,
              "#f0f921"
             ]
            ],
            "type": "histogram2dcontour"
           }
          ],
          "mesh3d": [
           {
            "colorbar": {
             "outlinewidth": 0,
             "ticks": ""
            },
            "type": "mesh3d"
           }
          ],
          "parcoords": [
           {
            "line": {
             "colorbar": {
              "outlinewidth": 0,
              "ticks": ""
             }
            },
            "type": "parcoords"
           }
          ],
          "pie": [
           {
            "automargin": true,
            "type": "pie"
           }
          ],
          "scatter": [
           {
            "fillpattern": {
             "fillmode": "overlay",
             "size": 10,
             "solidity": 0.2
            },
            "type": "scatter"
           }
          ],
          "scatter3d": [
           {
            "line": {
             "colorbar": {
              "outlinewidth": 0,
              "ticks": ""
             }
            },
            "marker": {
             "colorbar": {
              "outlinewidth": 0,
              "ticks": ""
             }
            },
            "type": "scatter3d"
           }
          ],
          "scattercarpet": [
           {
            "marker": {
             "colorbar": {
              "outlinewidth": 0,
              "ticks": ""
             }
            },
            "type": "scattercarpet"
           }
          ],
          "scattergeo": [
           {
            "marker": {
             "colorbar": {
              "outlinewidth": 0,
              "ticks": ""
             }
            },
            "type": "scattergeo"
           }
          ],
          "scattergl": [
           {
            "marker": {
             "colorbar": {
              "outlinewidth": 0,
              "ticks": ""
             }
            },
            "type": "scattergl"
           }
          ],
          "scattermapbox": [
           {
            "marker": {
             "colorbar": {
              "outlinewidth": 0,
              "ticks": ""
             }
            },
            "type": "scattermapbox"
           }
          ],
          "scatterpolar": [
           {
            "marker": {
             "colorbar": {
              "outlinewidth": 0,
              "ticks": ""
             }
            },
            "type": "scatterpolar"
           }
          ],
          "scatterpolargl": [
           {
            "marker": {
             "colorbar": {
              "outlinewidth": 0,
              "ticks": ""
             }
            },
            "type": "scatterpolargl"
           }
          ],
          "scatterternary": [
           {
            "marker": {
             "colorbar": {
              "outlinewidth": 0,
              "ticks": ""
             }
            },
            "type": "scatterternary"
           }
          ],
          "surface": [
           {
            "colorbar": {
             "outlinewidth": 0,
             "ticks": ""
            },
            "colorscale": [
             [
              0,
              "#0d0887"
             ],
             [
              0.1111111111111111,
              "#46039f"
             ],
             [
              0.2222222222222222,
              "#7201a8"
             ],
             [
              0.3333333333333333,
              "#9c179e"
             ],
             [
              0.4444444444444444,
              "#bd3786"
             ],
             [
              0.5555555555555556,
              "#d8576b"
             ],
             [
              0.6666666666666666,
              "#ed7953"
             ],
             [
              0.7777777777777778,
              "#fb9f3a"
             ],
             [
              0.8888888888888888,
              "#fdca26"
             ],
             [
              1,
              "#f0f921"
             ]
            ],
            "type": "surface"
           }
          ],
          "table": [
           {
            "cells": {
             "fill": {
              "color": "#EBF0F8"
             },
             "line": {
              "color": "white"
             }
            },
            "header": {
             "fill": {
              "color": "#C8D4E3"
             },
             "line": {
              "color": "white"
             }
            },
            "type": "table"
           }
          ]
         },
         "layout": {
          "annotationdefaults": {
           "arrowcolor": "#2a3f5f",
           "arrowhead": 0,
           "arrowwidth": 1
          },
          "autotypenumbers": "strict",
          "coloraxis": {
           "colorbar": {
            "outlinewidth": 0,
            "ticks": ""
           }
          },
          "colorscale": {
           "diverging": [
            [
             0,
             "#8e0152"
            ],
            [
             0.1,
             "#c51b7d"
            ],
            [
             0.2,
             "#de77ae"
            ],
            [
             0.3,
             "#f1b6da"
            ],
            [
             0.4,
             "#fde0ef"
            ],
            [
             0.5,
             "#f7f7f7"
            ],
            [
             0.6,
             "#e6f5d0"
            ],
            [
             0.7,
             "#b8e186"
            ],
            [
             0.8,
             "#7fbc41"
            ],
            [
             0.9,
             "#4d9221"
            ],
            [
             1,
             "#276419"
            ]
           ],
           "sequential": [
            [
             0,
             "#0d0887"
            ],
            [
             0.1111111111111111,
             "#46039f"
            ],
            [
             0.2222222222222222,
             "#7201a8"
            ],
            [
             0.3333333333333333,
             "#9c179e"
            ],
            [
             0.4444444444444444,
             "#bd3786"
            ],
            [
             0.5555555555555556,
             "#d8576b"
            ],
            [
             0.6666666666666666,
             "#ed7953"
            ],
            [
             0.7777777777777778,
             "#fb9f3a"
            ],
            [
             0.8888888888888888,
             "#fdca26"
            ],
            [
             1,
             "#f0f921"
            ]
           ],
           "sequentialminus": [
            [
             0,
             "#0d0887"
            ],
            [
             0.1111111111111111,
             "#46039f"
            ],
            [
             0.2222222222222222,
             "#7201a8"
            ],
            [
             0.3333333333333333,
             "#9c179e"
            ],
            [
             0.4444444444444444,
             "#bd3786"
            ],
            [
             0.5555555555555556,
             "#d8576b"
            ],
            [
             0.6666666666666666,
             "#ed7953"
            ],
            [
             0.7777777777777778,
             "#fb9f3a"
            ],
            [
             0.8888888888888888,
             "#fdca26"
            ],
            [
             1,
             "#f0f921"
            ]
           ]
          },
          "colorway": [
           "#636efa",
           "#EF553B",
           "#00cc96",
           "#ab63fa",
           "#FFA15A",
           "#19d3f3",
           "#FF6692",
           "#B6E880",
           "#FF97FF",
           "#FECB52"
          ],
          "font": {
           "color": "#2a3f5f"
          },
          "geo": {
           "bgcolor": "white",
           "lakecolor": "white",
           "landcolor": "#E5ECF6",
           "showlakes": true,
           "showland": true,
           "subunitcolor": "white"
          },
          "hoverlabel": {
           "align": "left"
          },
          "hovermode": "closest",
          "mapbox": {
           "style": "light"
          },
          "paper_bgcolor": "white",
          "plot_bgcolor": "#E5ECF6",
          "polar": {
           "angularaxis": {
            "gridcolor": "white",
            "linecolor": "white",
            "ticks": ""
           },
           "bgcolor": "#E5ECF6",
           "radialaxis": {
            "gridcolor": "white",
            "linecolor": "white",
            "ticks": ""
           }
          },
          "scene": {
           "xaxis": {
            "backgroundcolor": "#E5ECF6",
            "gridcolor": "white",
            "gridwidth": 2,
            "linecolor": "white",
            "showbackground": true,
            "ticks": "",
            "zerolinecolor": "white"
           },
           "yaxis": {
            "backgroundcolor": "#E5ECF6",
            "gridcolor": "white",
            "gridwidth": 2,
            "linecolor": "white",
            "showbackground": true,
            "ticks": "",
            "zerolinecolor": "white"
           },
           "zaxis": {
            "backgroundcolor": "#E5ECF6",
            "gridcolor": "white",
            "gridwidth": 2,
            "linecolor": "white",
            "showbackground": true,
            "ticks": "",
            "zerolinecolor": "white"
           }
          },
          "shapedefaults": {
           "line": {
            "color": "#2a3f5f"
           }
          },
          "ternary": {
           "aaxis": {
            "gridcolor": "white",
            "linecolor": "white",
            "ticks": ""
           },
           "baxis": {
            "gridcolor": "white",
            "linecolor": "white",
            "ticks": ""
           },
           "bgcolor": "#E5ECF6",
           "caxis": {
            "gridcolor": "white",
            "linecolor": "white",
            "ticks": ""
           }
          },
          "title": {
           "x": 0.05
          },
          "xaxis": {
           "automargin": true,
           "gridcolor": "white",
           "linecolor": "white",
           "ticks": "",
           "title": {
            "standoff": 15
           },
           "zerolinecolor": "white",
           "zerolinewidth": 2
          },
          "yaxis": {
           "automargin": true,
           "gridcolor": "white",
           "linecolor": "white",
           "ticks": "",
           "title": {
            "standoff": 15
           },
           "zerolinecolor": "white",
           "zerolinewidth": 2
          }
         }
        },
        "title": {
         "text": "Incremental Improvement per Step (accepted layers only)"
        },
        "xaxis": {
         "anchor": "y",
         "domain": [
          0,
          0.2888888888888889
         ],
         "title": {
          "text": "Step"
         }
        },
        "xaxis2": {
         "anchor": "y2",
         "domain": [
          0.35555555555555557,
          0.6444444444444445
         ],
         "title": {
          "text": "Step"
         }
        },
        "xaxis3": {
         "anchor": "y3",
         "domain": [
          0.7111111111111111,
          1
         ],
         "title": {
          "text": "Step"
         }
        },
        "yaxis": {
         "anchor": "x",
         "domain": [
          0,
          1
         ],
         "title": {
          "text": "Increment"
         }
        },
        "yaxis2": {
         "anchor": "x2",
         "domain": [
          0,
          1
         ],
         "matches": "y",
         "showticklabels": false
        },
        "yaxis3": {
         "anchor": "x3",
         "domain": [
          0,
          1
         ],
         "matches": "y",
         "showticklabels": false
        }
       }
      }
     },
     "metadata": {},
     "output_type": "display_data"
    },
    {
     "name": "stdout",
     "output_type": "stream",
     "text": [
      "Selected layers: {'max': [9, 10, 4], 'sum': [10, 9], 'avg': [9, 10]}\n",
      "Final performance: {'max': {'inliers_top1': np.float64(0.7431098188866678), 'inliers_top5': np.float64(0.8403295172330244), 'outliers_top1': np.float64(0.8909883720930233), 'outliers_top5': np.float64(0.9629360465116279)}, 'sum': {'inliers_top1': np.float64(0.6235992488945423), 'inliers_top5': np.float64(0.7299654733781573), 'outliers_top1': np.float64(0.8236434108527132), 'outliers_top5': np.float64(0.9256298449612403)}, 'avg': {'inliers_top1': np.float64(0.721606396510994), 'inliers_top5': np.float64(0.7824822823914228), 'outliers_top1': np.float64(0.8946220930232558), 'outliers_top5': np.float64(0.9670542635658915)}}\n"
     ]
    }
   ],
   "source": [
    "# List of performance metric functions to consider\n",
    "metric_functions = [\n",
    "    calculate_top_k_accuracy_satelite2satelite,\n",
    "]\n",
    "\n",
    "selected_layers, final_perf, df_trace = run_layer_selection(metric_functions, contamination=0.2)\n",
    "\n",
    "df_trace.to_csv('data/df_trace_satelite2satelite.csv', index=False)\n",
    "\n",
    "print(\"Selected layers:\", selected_layers)\n",
    "print(\"Final performance:\", final_perf)"
   ]
  },
  {
   "cell_type": "code",
   "execution_count": 77,
   "metadata": {},
   "outputs": [
    {
     "data": {
      "text/html": [
       "<div>\n",
       "<style scoped>\n",
       "    .dataframe tbody tr th:only-of-type {\n",
       "        vertical-align: middle;\n",
       "    }\n",
       "\n",
       "    .dataframe tbody tr th {\n",
       "        vertical-align: top;\n",
       "    }\n",
       "\n",
       "    .dataframe thead th {\n",
       "        text-align: right;\n",
       "    }\n",
       "</style>\n",
       "<table border=\"1\" class=\"dataframe\">\n",
       "  <thead>\n",
       "    <tr style=\"text-align: right;\">\n",
       "      <th></th>\n",
       "      <th>step</th>\n",
       "      <th>layer_tested</th>\n",
       "      <th>metric_name</th>\n",
       "      <th>inliers_top1</th>\n",
       "      <th>inliers_top5</th>\n",
       "      <th>outliers_top1</th>\n",
       "      <th>outliers_top5</th>\n",
       "      <th>outlier_score</th>\n",
       "      <th>increment</th>\n",
       "      <th>aggregation</th>\n",
       "      <th>accepted</th>\n",
       "    </tr>\n",
       "  </thead>\n",
       "  <tbody>\n",
       "    <tr>\n",
       "      <th>0</th>\n",
       "      <td>1</td>\n",
       "      <td>0</td>\n",
       "      <td>calculate_top_k_accuracy_satelite2drone</td>\n",
       "      <td>0.009571</td>\n",
       "      <td>0.039372</td>\n",
       "      <td>0.009205</td>\n",
       "      <td>0.033915</td>\n",
       "      <td>0.033915</td>\n",
       "      <td>0.033915</td>\n",
       "      <td>max</td>\n",
       "      <td>False</td>\n",
       "    </tr>\n",
       "    <tr>\n",
       "      <th>1</th>\n",
       "      <td>1</td>\n",
       "      <td>0</td>\n",
       "      <td>calculate_top_k_accuracy_satelite2satelite</td>\n",
       "      <td>0.081228</td>\n",
       "      <td>0.206191</td>\n",
       "      <td>0.170543</td>\n",
       "      <td>0.348353</td>\n",
       "      <td>0.348353</td>\n",
       "      <td>0.348353</td>\n",
       "      <td>max</td>\n",
       "      <td>False</td>\n",
       "    </tr>\n",
       "    <tr>\n",
       "      <th>2</th>\n",
       "      <td>1</td>\n",
       "      <td>1</td>\n",
       "      <td>calculate_top_k_accuracy_satelite2drone</td>\n",
       "      <td>0.009752</td>\n",
       "      <td>0.043976</td>\n",
       "      <td>0.015019</td>\n",
       "      <td>0.051357</td>\n",
       "      <td>0.051357</td>\n",
       "      <td>0.051357</td>\n",
       "      <td>max</td>\n",
       "      <td>False</td>\n",
       "    </tr>\n",
       "    <tr>\n",
       "      <th>3</th>\n",
       "      <td>1</td>\n",
       "      <td>1</td>\n",
       "      <td>calculate_top_k_accuracy_satelite2satelite</td>\n",
       "      <td>0.169423</td>\n",
       "      <td>0.343631</td>\n",
       "      <td>0.321948</td>\n",
       "      <td>0.527616</td>\n",
       "      <td>0.527616</td>\n",
       "      <td>0.527616</td>\n",
       "      <td>max</td>\n",
       "      <td>False</td>\n",
       "    </tr>\n",
       "    <tr>\n",
       "      <th>4</th>\n",
       "      <td>1</td>\n",
       "      <td>2</td>\n",
       "      <td>calculate_top_k_accuracy_satelite2drone</td>\n",
       "      <td>0.012902</td>\n",
       "      <td>0.048458</td>\n",
       "      <td>0.018169</td>\n",
       "      <td>0.066618</td>\n",
       "      <td>0.066618</td>\n",
       "      <td>0.066618</td>\n",
       "      <td>max</td>\n",
       "      <td>False</td>\n",
       "    </tr>\n",
       "    <tr>\n",
       "      <th>5</th>\n",
       "      <td>1</td>\n",
       "      <td>2</td>\n",
       "      <td>calculate_top_k_accuracy_satelite2satelite</td>\n",
       "      <td>0.636198</td>\n",
       "      <td>0.796111</td>\n",
       "      <td>0.630329</td>\n",
       "      <td>0.765019</td>\n",
       "      <td>0.765019</td>\n",
       "      <td>0.765019</td>\n",
       "      <td>max</td>\n",
       "      <td>False</td>\n",
       "    </tr>\n",
       "    <tr>\n",
       "      <th>6</th>\n",
       "      <td>1</td>\n",
       "      <td>3</td>\n",
       "      <td>calculate_top_k_accuracy_satelite2drone</td>\n",
       "      <td>0.017687</td>\n",
       "      <td>0.065782</td>\n",
       "      <td>0.035126</td>\n",
       "      <td>0.106589</td>\n",
       "      <td>0.106589</td>\n",
       "      <td>0.106589</td>\n",
       "      <td>max</td>\n",
       "      <td>False</td>\n",
       "    </tr>\n",
       "    <tr>\n",
       "      <th>7</th>\n",
       "      <td>1</td>\n",
       "      <td>3</td>\n",
       "      <td>calculate_top_k_accuracy_satelite2satelite</td>\n",
       "      <td>0.448301</td>\n",
       "      <td>0.663153</td>\n",
       "      <td>0.546996</td>\n",
       "      <td>0.733043</td>\n",
       "      <td>0.733043</td>\n",
       "      <td>0.733043</td>\n",
       "      <td>max</td>\n",
       "      <td>False</td>\n",
       "    </tr>\n",
       "    <tr>\n",
       "      <th>8</th>\n",
       "      <td>1</td>\n",
       "      <td>4</td>\n",
       "      <td>calculate_top_k_accuracy_satelite2drone</td>\n",
       "      <td>0.021019</td>\n",
       "      <td>0.070931</td>\n",
       "      <td>0.067587</td>\n",
       "      <td>0.155523</td>\n",
       "      <td>0.155523</td>\n",
       "      <td>0.155523</td>\n",
       "      <td>max</td>\n",
       "      <td>False</td>\n",
       "    </tr>\n",
       "    <tr>\n",
       "      <th>9</th>\n",
       "      <td>1</td>\n",
       "      <td>4</td>\n",
       "      <td>calculate_top_k_accuracy_satelite2satelite</td>\n",
       "      <td>0.690351</td>\n",
       "      <td>0.826701</td>\n",
       "      <td>0.695494</td>\n",
       "      <td>0.835998</td>\n",
       "      <td>0.835998</td>\n",
       "      <td>0.835998</td>\n",
       "      <td>max</td>\n",
       "      <td>False</td>\n",
       "    </tr>\n",
       "    <tr>\n",
       "      <th>10</th>\n",
       "      <td>1</td>\n",
       "      <td>5</td>\n",
       "      <td>calculate_top_k_accuracy_satelite2drone</td>\n",
       "      <td>0.021564</td>\n",
       "      <td>0.072627</td>\n",
       "      <td>0.069767</td>\n",
       "      <td>0.168605</td>\n",
       "      <td>0.168605</td>\n",
       "      <td>0.168605</td>\n",
       "      <td>max</td>\n",
       "      <td>False</td>\n",
       "    </tr>\n",
       "    <tr>\n",
       "      <th>11</th>\n",
       "      <td>1</td>\n",
       "      <td>5</td>\n",
       "      <td>calculate_top_k_accuracy_satelite2satelite</td>\n",
       "      <td>0.524744</td>\n",
       "      <td>0.714883</td>\n",
       "      <td>0.692103</td>\n",
       "      <td>0.849806</td>\n",
       "      <td>0.849806</td>\n",
       "      <td>0.849806</td>\n",
       "      <td>max</td>\n",
       "      <td>False</td>\n",
       "    </tr>\n",
       "    <tr>\n",
       "      <th>12</th>\n",
       "      <td>1</td>\n",
       "      <td>6</td>\n",
       "      <td>calculate_top_k_accuracy_satelite2drone</td>\n",
       "      <td>0.030349</td>\n",
       "      <td>0.096427</td>\n",
       "      <td>0.117432</td>\n",
       "      <td>0.265137</td>\n",
       "      <td>0.265137</td>\n",
       "      <td>0.265137</td>\n",
       "      <td>max</td>\n",
       "      <td>False</td>\n",
       "    </tr>\n",
       "    <tr>\n",
       "      <th>13</th>\n",
       "      <td>1</td>\n",
       "      <td>6</td>\n",
       "      <td>calculate_top_k_accuracy_satelite2satelite</td>\n",
       "      <td>0.604437</td>\n",
       "      <td>0.774016</td>\n",
       "      <td>0.753906</td>\n",
       "      <td>0.880615</td>\n",
       "      <td>0.880615</td>\n",
       "      <td>0.880615</td>\n",
       "      <td>max</td>\n",
       "      <td>False</td>\n",
       "    </tr>\n",
       "    <tr>\n",
       "      <th>14</th>\n",
       "      <td>1</td>\n",
       "      <td>7</td>\n",
       "      <td>calculate_top_k_accuracy_satelite2drone</td>\n",
       "      <td>0.019868</td>\n",
       "      <td>0.066025</td>\n",
       "      <td>0.090359</td>\n",
       "      <td>0.212694</td>\n",
       "      <td>0.212694</td>\n",
       "      <td>0.212694</td>\n",
       "      <td>max</td>\n",
       "      <td>False</td>\n",
       "    </tr>\n",
       "    <tr>\n",
       "      <th>15</th>\n",
       "      <td>1</td>\n",
       "      <td>7</td>\n",
       "      <td>calculate_top_k_accuracy_satelite2satelite</td>\n",
       "      <td>0.359864</td>\n",
       "      <td>0.502029</td>\n",
       "      <td>0.716328</td>\n",
       "      <td>0.875727</td>\n",
       "      <td>0.875727</td>\n",
       "      <td>0.875727</td>\n",
       "      <td>max</td>\n",
       "      <td>False</td>\n",
       "    </tr>\n",
       "    <tr>\n",
       "      <th>16</th>\n",
       "      <td>1</td>\n",
       "      <td>8</td>\n",
       "      <td>calculate_top_k_accuracy_satelite2drone</td>\n",
       "      <td>0.026834</td>\n",
       "      <td>0.087043</td>\n",
       "      <td>0.116037</td>\n",
       "      <td>0.249758</td>\n",
       "      <td>0.249758</td>\n",
       "      <td>0.249758</td>\n",
       "      <td>max</td>\n",
       "      <td>False</td>\n",
       "    </tr>\n",
       "    <tr>\n",
       "      <th>17</th>\n",
       "      <td>1</td>\n",
       "      <td>8</td>\n",
       "      <td>calculate_top_k_accuracy_satelite2satelite</td>\n",
       "      <td>0.407172</td>\n",
       "      <td>0.553456</td>\n",
       "      <td>0.743944</td>\n",
       "      <td>0.878391</td>\n",
       "      <td>0.878391</td>\n",
       "      <td>0.878391</td>\n",
       "      <td>max</td>\n",
       "      <td>False</td>\n",
       "    </tr>\n",
       "    <tr>\n",
       "      <th>18</th>\n",
       "      <td>1</td>\n",
       "      <td>9</td>\n",
       "      <td>calculate_top_k_accuracy_satelite2drone</td>\n",
       "      <td>0.039918</td>\n",
       "      <td>0.117148</td>\n",
       "      <td>0.136628</td>\n",
       "      <td>0.304748</td>\n",
       "      <td>0.304748</td>\n",
       "      <td>0.304748</td>\n",
       "      <td>max</td>\n",
       "      <td>False</td>\n",
       "    </tr>\n",
       "    <tr>\n",
       "      <th>19</th>\n",
       "      <td>1</td>\n",
       "      <td>9</td>\n",
       "      <td>calculate_top_k_accuracy_satelite2satelite</td>\n",
       "      <td>0.638803</td>\n",
       "      <td>0.744321</td>\n",
       "      <td>0.874758</td>\n",
       "      <td>0.954942</td>\n",
       "      <td>0.954942</td>\n",
       "      <td>0.954942</td>\n",
       "      <td>max</td>\n",
       "      <td>False</td>\n",
       "    </tr>\n",
       "    <tr>\n",
       "      <th>20</th>\n",
       "      <td>1</td>\n",
       "      <td>10</td>\n",
       "      <td>calculate_top_k_accuracy_satelite2drone</td>\n",
       "      <td>0.030892</td>\n",
       "      <td>0.092071</td>\n",
       "      <td>0.094719</td>\n",
       "      <td>0.208576</td>\n",
       "      <td>0.208576</td>\n",
       "      <td>0.208576</td>\n",
       "      <td>max</td>\n",
       "      <td>False</td>\n",
       "    </tr>\n",
       "    <tr>\n",
       "      <th>21</th>\n",
       "      <td>1</td>\n",
       "      <td>10</td>\n",
       "      <td>calculate_top_k_accuracy_satelite2satelite</td>\n",
       "      <td>0.627839</td>\n",
       "      <td>0.740323</td>\n",
       "      <td>0.863857</td>\n",
       "      <td>0.955426</td>\n",
       "      <td>0.955426</td>\n",
       "      <td>0.955426</td>\n",
       "      <td>max</td>\n",
       "      <td>True</td>\n",
       "    </tr>\n",
       "    <tr>\n",
       "      <th>22</th>\n",
       "      <td>2</td>\n",
       "      <td>0</td>\n",
       "      <td>calculate_top_k_accuracy_satelite2drone</td>\n",
       "      <td>0.010176</td>\n",
       "      <td>0.041069</td>\n",
       "      <td>0.011870</td>\n",
       "      <td>0.046269</td>\n",
       "      <td>0.046269</td>\n",
       "      <td>-0.909157</td>\n",
       "      <td>max</td>\n",
       "      <td>False</td>\n",
       "    </tr>\n",
       "    <tr>\n",
       "      <th>23</th>\n",
       "      <td>2</td>\n",
       "      <td>0</td>\n",
       "      <td>calculate_top_k_accuracy_satelite2satelite</td>\n",
       "      <td>0.156036</td>\n",
       "      <td>0.309831</td>\n",
       "      <td>0.364341</td>\n",
       "      <td>0.564196</td>\n",
       "      <td>0.564196</td>\n",
       "      <td>-0.391231</td>\n",
       "      <td>max</td>\n",
       "      <td>False</td>\n",
       "    </tr>\n",
       "    <tr>\n",
       "      <th>24</th>\n",
       "      <td>2</td>\n",
       "      <td>1</td>\n",
       "      <td>calculate_top_k_accuracy_satelite2drone</td>\n",
       "      <td>0.010297</td>\n",
       "      <td>0.046399</td>\n",
       "      <td>0.013808</td>\n",
       "      <td>0.044089</td>\n",
       "      <td>0.044089</td>\n",
       "      <td>-0.911337</td>\n",
       "      <td>max</td>\n",
       "      <td>False</td>\n",
       "    </tr>\n",
       "    <tr>\n",
       "      <th>25</th>\n",
       "      <td>2</td>\n",
       "      <td>1</td>\n",
       "      <td>calculate_top_k_accuracy_satelite2satelite</td>\n",
       "      <td>0.181658</td>\n",
       "      <td>0.355261</td>\n",
       "      <td>0.323886</td>\n",
       "      <td>0.549419</td>\n",
       "      <td>0.549419</td>\n",
       "      <td>-0.406008</td>\n",
       "      <td>max</td>\n",
       "      <td>False</td>\n",
       "    </tr>\n",
       "    <tr>\n",
       "      <th>26</th>\n",
       "      <td>2</td>\n",
       "      <td>2</td>\n",
       "      <td>calculate_top_k_accuracy_satelite2drone</td>\n",
       "      <td>0.016415</td>\n",
       "      <td>0.058695</td>\n",
       "      <td>0.040455</td>\n",
       "      <td>0.125000</td>\n",
       "      <td>0.125000</td>\n",
       "      <td>-0.830426</td>\n",
       "      <td>max</td>\n",
       "      <td>False</td>\n",
       "    </tr>\n",
       "    <tr>\n",
       "      <th>27</th>\n",
       "      <td>2</td>\n",
       "      <td>2</td>\n",
       "      <td>calculate_top_k_accuracy_satelite2satelite</td>\n",
       "      <td>0.686474</td>\n",
       "      <td>0.822460</td>\n",
       "      <td>0.838421</td>\n",
       "      <td>0.930233</td>\n",
       "      <td>0.930233</td>\n",
       "      <td>-0.025194</td>\n",
       "      <td>max</td>\n",
       "      <td>False</td>\n",
       "    </tr>\n",
       "    <tr>\n",
       "      <th>28</th>\n",
       "      <td>2</td>\n",
       "      <td>3</td>\n",
       "      <td>calculate_top_k_accuracy_satelite2drone</td>\n",
       "      <td>0.025380</td>\n",
       "      <td>0.087043</td>\n",
       "      <td>0.089147</td>\n",
       "      <td>0.198886</td>\n",
       "      <td>0.198886</td>\n",
       "      <td>-0.756541</td>\n",
       "      <td>max</td>\n",
       "      <td>False</td>\n",
       "    </tr>\n",
       "    <tr>\n",
       "      <th>29</th>\n",
       "      <td>2</td>\n",
       "      <td>3</td>\n",
       "      <td>calculate_top_k_accuracy_satelite2satelite</td>\n",
       "      <td>0.609789</td>\n",
       "      <td>0.773033</td>\n",
       "      <td>0.832607</td>\n",
       "      <td>0.941618</td>\n",
       "      <td>0.941618</td>\n",
       "      <td>-0.013808</td>\n",
       "      <td>max</td>\n",
       "      <td>False</td>\n",
       "    </tr>\n",
       "    <tr>\n",
       "      <th>30</th>\n",
       "      <td>2</td>\n",
       "      <td>4</td>\n",
       "      <td>calculate_top_k_accuracy_satelite2drone</td>\n",
       "      <td>0.030529</td>\n",
       "      <td>0.095766</td>\n",
       "      <td>0.113857</td>\n",
       "      <td>0.235950</td>\n",
       "      <td>0.235950</td>\n",
       "      <td>-0.719477</td>\n",
       "      <td>max</td>\n",
       "      <td>False</td>\n",
       "    </tr>\n",
       "    <tr>\n",
       "      <th>31</th>\n",
       "      <td>2</td>\n",
       "      <td>4</td>\n",
       "      <td>calculate_top_k_accuracy_satelite2satelite</td>\n",
       "      <td>0.721970</td>\n",
       "      <td>0.831122</td>\n",
       "      <td>0.877180</td>\n",
       "      <td>0.955669</td>\n",
       "      <td>0.955669</td>\n",
       "      <td>0.000242</td>\n",
       "      <td>max</td>\n",
       "      <td>False</td>\n",
       "    </tr>\n",
       "    <tr>\n",
       "      <th>32</th>\n",
       "      <td>2</td>\n",
       "      <td>5</td>\n",
       "      <td>calculate_top_k_accuracy_satelite2drone</td>\n",
       "      <td>0.031498</td>\n",
       "      <td>0.098492</td>\n",
       "      <td>0.120155</td>\n",
       "      <td>0.245397</td>\n",
       "      <td>0.245397</td>\n",
       "      <td>-0.710029</td>\n",
       "      <td>max</td>\n",
       "      <td>False</td>\n",
       "    </tr>\n",
       "    <tr>\n",
       "      <th>33</th>\n",
       "      <td>2</td>\n",
       "      <td>5</td>\n",
       "      <td>calculate_top_k_accuracy_satelite2satelite</td>\n",
       "      <td>0.633836</td>\n",
       "      <td>0.790599</td>\n",
       "      <td>0.831395</td>\n",
       "      <td>0.948401</td>\n",
       "      <td>0.948401</td>\n",
       "      <td>-0.007025</td>\n",
       "      <td>max</td>\n",
       "      <td>False</td>\n",
       "    </tr>\n",
       "    <tr>\n",
       "      <th>34</th>\n",
       "      <td>2</td>\n",
       "      <td>6</td>\n",
       "      <td>calculate_top_k_accuracy_satelite2drone</td>\n",
       "      <td>0.043431</td>\n",
       "      <td>0.123630</td>\n",
       "      <td>0.153828</td>\n",
       "      <td>0.295058</td>\n",
       "      <td>0.295058</td>\n",
       "      <td>-0.660368</td>\n",
       "      <td>max</td>\n",
       "      <td>False</td>\n",
       "    </tr>\n",
       "    <tr>\n",
       "      <th>35</th>\n",
       "      <td>2</td>\n",
       "      <td>6</td>\n",
       "      <td>calculate_top_k_accuracy_satelite2satelite</td>\n",
       "      <td>0.665092</td>\n",
       "      <td>0.798292</td>\n",
       "      <td>0.855378</td>\n",
       "      <td>0.948886</td>\n",
       "      <td>0.948886</td>\n",
       "      <td>-0.006541</td>\n",
       "      <td>max</td>\n",
       "      <td>False</td>\n",
       "    </tr>\n",
       "    <tr>\n",
       "      <th>36</th>\n",
       "      <td>2</td>\n",
       "      <td>7</td>\n",
       "      <td>calculate_top_k_accuracy_satelite2drone</td>\n",
       "      <td>0.032285</td>\n",
       "      <td>0.098189</td>\n",
       "      <td>0.126696</td>\n",
       "      <td>0.268895</td>\n",
       "      <td>0.268895</td>\n",
       "      <td>-0.686531</td>\n",
       "      <td>max</td>\n",
       "      <td>False</td>\n",
       "    </tr>\n",
       "    <tr>\n",
       "      <th>37</th>\n",
       "      <td>2</td>\n",
       "      <td>7</td>\n",
       "      <td>calculate_top_k_accuracy_satelite2satelite</td>\n",
       "      <td>0.496638</td>\n",
       "      <td>0.648919</td>\n",
       "      <td>0.808382</td>\n",
       "      <td>0.938953</td>\n",
       "      <td>0.938953</td>\n",
       "      <td>-0.016473</td>\n",
       "      <td>max</td>\n",
       "      <td>False</td>\n",
       "    </tr>\n",
       "    <tr>\n",
       "      <th>38</th>\n",
       "      <td>2</td>\n",
       "      <td>8</td>\n",
       "      <td>calculate_top_k_accuracy_satelite2drone</td>\n",
       "      <td>0.036041</td>\n",
       "      <td>0.108426</td>\n",
       "      <td>0.136386</td>\n",
       "      <td>0.288275</td>\n",
       "      <td>0.288275</td>\n",
       "      <td>-0.667151</td>\n",
       "      <td>max</td>\n",
       "      <td>False</td>\n",
       "    </tr>\n",
       "    <tr>\n",
       "      <th>39</th>\n",
       "      <td>2</td>\n",
       "      <td>8</td>\n",
       "      <td>calculate_top_k_accuracy_satelite2satelite</td>\n",
       "      <td>0.505724</td>\n",
       "      <td>0.650554</td>\n",
       "      <td>0.806444</td>\n",
       "      <td>0.922723</td>\n",
       "      <td>0.922723</td>\n",
       "      <td>-0.032703</td>\n",
       "      <td>max</td>\n",
       "      <td>False</td>\n",
       "    </tr>\n",
       "    <tr>\n",
       "      <th>40</th>\n",
       "      <td>2</td>\n",
       "      <td>9</td>\n",
       "      <td>calculate_top_k_accuracy_satelite2drone</td>\n",
       "      <td>0.034829</td>\n",
       "      <td>0.104912</td>\n",
       "      <td>0.120155</td>\n",
       "      <td>0.261628</td>\n",
       "      <td>0.261628</td>\n",
       "      <td>-0.693798</td>\n",
       "      <td>max</td>\n",
       "      <td>False</td>\n",
       "    </tr>\n",
       "    <tr>\n",
       "      <th>41</th>\n",
       "      <td>2</td>\n",
       "      <td>9</td>\n",
       "      <td>calculate_top_k_accuracy_satelite2satelite</td>\n",
       "      <td>0.676782</td>\n",
       "      <td>0.762251</td>\n",
       "      <td>0.888081</td>\n",
       "      <td>0.961725</td>\n",
       "      <td>0.961725</td>\n",
       "      <td>0.006298</td>\n",
       "      <td>max</td>\n",
       "      <td>True</td>\n",
       "    </tr>\n",
       "    <tr>\n",
       "      <th>42</th>\n",
       "      <td>3</td>\n",
       "      <td>0</td>\n",
       "      <td>calculate_top_k_accuracy_satelite2drone</td>\n",
       "      <td>0.010721</td>\n",
       "      <td>0.044097</td>\n",
       "      <td>0.015262</td>\n",
       "      <td>0.057171</td>\n",
       "      <td>0.057171</td>\n",
       "      <td>-0.904554</td>\n",
       "      <td>max</td>\n",
       "      <td>False</td>\n",
       "    </tr>\n",
       "    <tr>\n",
       "      <th>43</th>\n",
       "      <td>3</td>\n",
       "      <td>0</td>\n",
       "      <td>calculate_top_k_accuracy_satelite2satelite</td>\n",
       "      <td>0.207523</td>\n",
       "      <td>0.372585</td>\n",
       "      <td>0.461725</td>\n",
       "      <td>0.645591</td>\n",
       "      <td>0.645591</td>\n",
       "      <td>-0.316134</td>\n",
       "      <td>max</td>\n",
       "      <td>False</td>\n",
       "    </tr>\n",
       "    <tr>\n",
       "      <th>44</th>\n",
       "      <td>3</td>\n",
       "      <td>1</td>\n",
       "      <td>calculate_top_k_accuracy_satelite2drone</td>\n",
       "      <td>0.010479</td>\n",
       "      <td>0.046460</td>\n",
       "      <td>0.012839</td>\n",
       "      <td>0.047481</td>\n",
       "      <td>0.047481</td>\n",
       "      <td>-0.914244</td>\n",
       "      <td>max</td>\n",
       "      <td>False</td>\n",
       "    </tr>\n",
       "    <tr>\n",
       "      <th>45</th>\n",
       "      <td>3</td>\n",
       "      <td>1</td>\n",
       "      <td>calculate_top_k_accuracy_satelite2satelite</td>\n",
       "      <td>0.186383</td>\n",
       "      <td>0.359925</td>\n",
       "      <td>0.345203</td>\n",
       "      <td>0.571463</td>\n",
       "      <td>0.571463</td>\n",
       "      <td>-0.390262</td>\n",
       "      <td>max</td>\n",
       "      <td>False</td>\n",
       "    </tr>\n",
       "    <tr>\n",
       "      <th>46</th>\n",
       "      <td>3</td>\n",
       "      <td>2</td>\n",
       "      <td>calculate_top_k_accuracy_satelite2drone</td>\n",
       "      <td>0.019565</td>\n",
       "      <td>0.069296</td>\n",
       "      <td>0.056444</td>\n",
       "      <td>0.147529</td>\n",
       "      <td>0.147529</td>\n",
       "      <td>-0.814196</td>\n",
       "      <td>max</td>\n",
       "      <td>False</td>\n",
       "    </tr>\n",
       "    <tr>\n",
       "      <th>47</th>\n",
       "      <td>3</td>\n",
       "      <td>2</td>\n",
       "      <td>calculate_top_k_accuracy_satelite2satelite</td>\n",
       "      <td>0.703919</td>\n",
       "      <td>0.817191</td>\n",
       "      <td>0.857074</td>\n",
       "      <td>0.940165</td>\n",
       "      <td>0.940165</td>\n",
       "      <td>-0.021560</td>\n",
       "      <td>max</td>\n",
       "      <td>False</td>\n",
       "    </tr>\n",
       "    <tr>\n",
       "      <th>48</th>\n",
       "      <td>3</td>\n",
       "      <td>3</td>\n",
       "      <td>calculate_top_k_accuracy_satelite2drone</td>\n",
       "      <td>0.034224</td>\n",
       "      <td>0.099582</td>\n",
       "      <td>0.110707</td>\n",
       "      <td>0.242006</td>\n",
       "      <td>0.242006</td>\n",
       "      <td>-0.719719</td>\n",
       "      <td>max</td>\n",
       "      <td>False</td>\n",
       "    </tr>\n",
       "    <tr>\n",
       "      <th>49</th>\n",
       "      <td>3</td>\n",
       "      <td>3</td>\n",
       "      <td>calculate_top_k_accuracy_satelite2satelite</td>\n",
       "      <td>0.666061</td>\n",
       "      <td>0.800170</td>\n",
       "      <td>0.861434</td>\n",
       "      <td>0.957364</td>\n",
       "      <td>0.957364</td>\n",
       "      <td>-0.004360</td>\n",
       "      <td>max</td>\n",
       "      <td>False</td>\n",
       "    </tr>\n",
       "    <tr>\n",
       "      <th>50</th>\n",
       "      <td>3</td>\n",
       "      <td>4</td>\n",
       "      <td>calculate_top_k_accuracy_satelite2drone</td>\n",
       "      <td>0.038646</td>\n",
       "      <td>0.112908</td>\n",
       "      <td>0.140504</td>\n",
       "      <td>0.259932</td>\n",
       "      <td>0.259932</td>\n",
       "      <td>-0.701793</td>\n",
       "      <td>max</td>\n",
       "      <td>False</td>\n",
       "    </tr>\n",
       "    <tr>\n",
       "      <th>51</th>\n",
       "      <td>3</td>\n",
       "      <td>4</td>\n",
       "      <td>calculate_top_k_accuracy_satelite2satelite</td>\n",
       "      <td>0.743594</td>\n",
       "      <td>0.840632</td>\n",
       "      <td>0.889050</td>\n",
       "      <td>0.961725</td>\n",
       "      <td>0.961725</td>\n",
       "      <td>0.000000</td>\n",
       "      <td>max</td>\n",
       "      <td>False</td>\n",
       "    </tr>\n",
       "    <tr>\n",
       "      <th>52</th>\n",
       "      <td>3</td>\n",
       "      <td>5</td>\n",
       "      <td>calculate_top_k_accuracy_satelite2drone</td>\n",
       "      <td>0.036950</td>\n",
       "      <td>0.115513</td>\n",
       "      <td>0.137112</td>\n",
       "      <td>0.278828</td>\n",
       "      <td>0.278828</td>\n",
       "      <td>-0.682897</td>\n",
       "      <td>max</td>\n",
       "      <td>False</td>\n",
       "    </tr>\n",
       "    <tr>\n",
       "      <th>53</th>\n",
       "      <td>3</td>\n",
       "      <td>5</td>\n",
       "      <td>calculate_top_k_accuracy_satelite2satelite</td>\n",
       "      <td>0.674905</td>\n",
       "      <td>0.810588</td>\n",
       "      <td>0.860223</td>\n",
       "      <td>0.955911</td>\n",
       "      <td>0.955911</td>\n",
       "      <td>-0.005814</td>\n",
       "      <td>max</td>\n",
       "      <td>False</td>\n",
       "    </tr>\n",
       "    <tr>\n",
       "      <th>54</th>\n",
       "      <td>3</td>\n",
       "      <td>6</td>\n",
       "      <td>calculate_top_k_accuracy_satelite2drone</td>\n",
       "      <td>0.050942</td>\n",
       "      <td>0.139560</td>\n",
       "      <td>0.179748</td>\n",
       "      <td>0.333576</td>\n",
       "      <td>0.333576</td>\n",
       "      <td>-0.628149</td>\n",
       "      <td>max</td>\n",
       "      <td>False</td>\n",
       "    </tr>\n",
       "    <tr>\n",
       "      <th>55</th>\n",
       "      <td>3</td>\n",
       "      <td>6</td>\n",
       "      <td>calculate_top_k_accuracy_satelite2satelite</td>\n",
       "      <td>0.694712</td>\n",
       "      <td>0.809922</td>\n",
       "      <td>0.876453</td>\n",
       "      <td>0.957364</td>\n",
       "      <td>0.957364</td>\n",
       "      <td>-0.004360</td>\n",
       "      <td>max</td>\n",
       "      <td>False</td>\n",
       "    </tr>\n",
       "    <tr>\n",
       "      <th>56</th>\n",
       "      <td>3</td>\n",
       "      <td>7</td>\n",
       "      <td>calculate_top_k_accuracy_satelite2drone</td>\n",
       "      <td>0.038040</td>\n",
       "      <td>0.111273</td>\n",
       "      <td>0.141231</td>\n",
       "      <td>0.293847</td>\n",
       "      <td>0.293847</td>\n",
       "      <td>-0.667878</td>\n",
       "      <td>max</td>\n",
       "      <td>False</td>\n",
       "    </tr>\n",
       "    <tr>\n",
       "      <th>57</th>\n",
       "      <td>3</td>\n",
       "      <td>7</td>\n",
       "      <td>calculate_top_k_accuracy_satelite2satelite</td>\n",
       "      <td>0.545157</td>\n",
       "      <td>0.692168</td>\n",
       "      <td>0.833091</td>\n",
       "      <td>0.949370</td>\n",
       "      <td>0.949370</td>\n",
       "      <td>-0.012355</td>\n",
       "      <td>max</td>\n",
       "      <td>False</td>\n",
       "    </tr>\n",
       "    <tr>\n",
       "      <th>58</th>\n",
       "      <td>3</td>\n",
       "      <td>8</td>\n",
       "      <td>calculate_top_k_accuracy_satelite2drone</td>\n",
       "      <td>0.038585</td>\n",
       "      <td>0.118420</td>\n",
       "      <td>0.150921</td>\n",
       "      <td>0.310562</td>\n",
       "      <td>0.310562</td>\n",
       "      <td>-0.651163</td>\n",
       "      <td>max</td>\n",
       "      <td>False</td>\n",
       "    </tr>\n",
       "    <tr>\n",
       "      <th>59</th>\n",
       "      <td>3</td>\n",
       "      <td>8</td>\n",
       "      <td>calculate_top_k_accuracy_satelite2satelite</td>\n",
       "      <td>0.547096</td>\n",
       "      <td>0.680720</td>\n",
       "      <td>0.827035</td>\n",
       "      <td>0.933866</td>\n",
       "      <td>0.933866</td>\n",
       "      <td>-0.027859</td>\n",
       "      <td>max</td>\n",
       "      <td>False</td>\n",
       "    </tr>\n",
       "  </tbody>\n",
       "</table>\n",
       "</div>"
      ],
      "text/plain": [
       "    step  layer_tested                                 metric_name  \\\n",
       "0      1             0     calculate_top_k_accuracy_satelite2drone   \n",
       "1      1             0  calculate_top_k_accuracy_satelite2satelite   \n",
       "2      1             1     calculate_top_k_accuracy_satelite2drone   \n",
       "3      1             1  calculate_top_k_accuracy_satelite2satelite   \n",
       "4      1             2     calculate_top_k_accuracy_satelite2drone   \n",
       "5      1             2  calculate_top_k_accuracy_satelite2satelite   \n",
       "6      1             3     calculate_top_k_accuracy_satelite2drone   \n",
       "7      1             3  calculate_top_k_accuracy_satelite2satelite   \n",
       "8      1             4     calculate_top_k_accuracy_satelite2drone   \n",
       "9      1             4  calculate_top_k_accuracy_satelite2satelite   \n",
       "10     1             5     calculate_top_k_accuracy_satelite2drone   \n",
       "11     1             5  calculate_top_k_accuracy_satelite2satelite   \n",
       "12     1             6     calculate_top_k_accuracy_satelite2drone   \n",
       "13     1             6  calculate_top_k_accuracy_satelite2satelite   \n",
       "14     1             7     calculate_top_k_accuracy_satelite2drone   \n",
       "15     1             7  calculate_top_k_accuracy_satelite2satelite   \n",
       "16     1             8     calculate_top_k_accuracy_satelite2drone   \n",
       "17     1             8  calculate_top_k_accuracy_satelite2satelite   \n",
       "18     1             9     calculate_top_k_accuracy_satelite2drone   \n",
       "19     1             9  calculate_top_k_accuracy_satelite2satelite   \n",
       "20     1            10     calculate_top_k_accuracy_satelite2drone   \n",
       "21     1            10  calculate_top_k_accuracy_satelite2satelite   \n",
       "22     2             0     calculate_top_k_accuracy_satelite2drone   \n",
       "23     2             0  calculate_top_k_accuracy_satelite2satelite   \n",
       "24     2             1     calculate_top_k_accuracy_satelite2drone   \n",
       "25     2             1  calculate_top_k_accuracy_satelite2satelite   \n",
       "26     2             2     calculate_top_k_accuracy_satelite2drone   \n",
       "27     2             2  calculate_top_k_accuracy_satelite2satelite   \n",
       "28     2             3     calculate_top_k_accuracy_satelite2drone   \n",
       "29     2             3  calculate_top_k_accuracy_satelite2satelite   \n",
       "30     2             4     calculate_top_k_accuracy_satelite2drone   \n",
       "31     2             4  calculate_top_k_accuracy_satelite2satelite   \n",
       "32     2             5     calculate_top_k_accuracy_satelite2drone   \n",
       "33     2             5  calculate_top_k_accuracy_satelite2satelite   \n",
       "34     2             6     calculate_top_k_accuracy_satelite2drone   \n",
       "35     2             6  calculate_top_k_accuracy_satelite2satelite   \n",
       "36     2             7     calculate_top_k_accuracy_satelite2drone   \n",
       "37     2             7  calculate_top_k_accuracy_satelite2satelite   \n",
       "38     2             8     calculate_top_k_accuracy_satelite2drone   \n",
       "39     2             8  calculate_top_k_accuracy_satelite2satelite   \n",
       "40     2             9     calculate_top_k_accuracy_satelite2drone   \n",
       "41     2             9  calculate_top_k_accuracy_satelite2satelite   \n",
       "42     3             0     calculate_top_k_accuracy_satelite2drone   \n",
       "43     3             0  calculate_top_k_accuracy_satelite2satelite   \n",
       "44     3             1     calculate_top_k_accuracy_satelite2drone   \n",
       "45     3             1  calculate_top_k_accuracy_satelite2satelite   \n",
       "46     3             2     calculate_top_k_accuracy_satelite2drone   \n",
       "47     3             2  calculate_top_k_accuracy_satelite2satelite   \n",
       "48     3             3     calculate_top_k_accuracy_satelite2drone   \n",
       "49     3             3  calculate_top_k_accuracy_satelite2satelite   \n",
       "50     3             4     calculate_top_k_accuracy_satelite2drone   \n",
       "51     3             4  calculate_top_k_accuracy_satelite2satelite   \n",
       "52     3             5     calculate_top_k_accuracy_satelite2drone   \n",
       "53     3             5  calculate_top_k_accuracy_satelite2satelite   \n",
       "54     3             6     calculate_top_k_accuracy_satelite2drone   \n",
       "55     3             6  calculate_top_k_accuracy_satelite2satelite   \n",
       "56     3             7     calculate_top_k_accuracy_satelite2drone   \n",
       "57     3             7  calculate_top_k_accuracy_satelite2satelite   \n",
       "58     3             8     calculate_top_k_accuracy_satelite2drone   \n",
       "59     3             8  calculate_top_k_accuracy_satelite2satelite   \n",
       "\n",
       "    inliers_top1  inliers_top5  outliers_top1  outliers_top5  outlier_score  \\\n",
       "0       0.009571      0.039372       0.009205       0.033915       0.033915   \n",
       "1       0.081228      0.206191       0.170543       0.348353       0.348353   \n",
       "2       0.009752      0.043976       0.015019       0.051357       0.051357   \n",
       "3       0.169423      0.343631       0.321948       0.527616       0.527616   \n",
       "4       0.012902      0.048458       0.018169       0.066618       0.066618   \n",
       "5       0.636198      0.796111       0.630329       0.765019       0.765019   \n",
       "6       0.017687      0.065782       0.035126       0.106589       0.106589   \n",
       "7       0.448301      0.663153       0.546996       0.733043       0.733043   \n",
       "8       0.021019      0.070931       0.067587       0.155523       0.155523   \n",
       "9       0.690351      0.826701       0.695494       0.835998       0.835998   \n",
       "10      0.021564      0.072627       0.069767       0.168605       0.168605   \n",
       "11      0.524744      0.714883       0.692103       0.849806       0.849806   \n",
       "12      0.030349      0.096427       0.117432       0.265137       0.265137   \n",
       "13      0.604437      0.774016       0.753906       0.880615       0.880615   \n",
       "14      0.019868      0.066025       0.090359       0.212694       0.212694   \n",
       "15      0.359864      0.502029       0.716328       0.875727       0.875727   \n",
       "16      0.026834      0.087043       0.116037       0.249758       0.249758   \n",
       "17      0.407172      0.553456       0.743944       0.878391       0.878391   \n",
       "18      0.039918      0.117148       0.136628       0.304748       0.304748   \n",
       "19      0.638803      0.744321       0.874758       0.954942       0.954942   \n",
       "20      0.030892      0.092071       0.094719       0.208576       0.208576   \n",
       "21      0.627839      0.740323       0.863857       0.955426       0.955426   \n",
       "22      0.010176      0.041069       0.011870       0.046269       0.046269   \n",
       "23      0.156036      0.309831       0.364341       0.564196       0.564196   \n",
       "24      0.010297      0.046399       0.013808       0.044089       0.044089   \n",
       "25      0.181658      0.355261       0.323886       0.549419       0.549419   \n",
       "26      0.016415      0.058695       0.040455       0.125000       0.125000   \n",
       "27      0.686474      0.822460       0.838421       0.930233       0.930233   \n",
       "28      0.025380      0.087043       0.089147       0.198886       0.198886   \n",
       "29      0.609789      0.773033       0.832607       0.941618       0.941618   \n",
       "30      0.030529      0.095766       0.113857       0.235950       0.235950   \n",
       "31      0.721970      0.831122       0.877180       0.955669       0.955669   \n",
       "32      0.031498      0.098492       0.120155       0.245397       0.245397   \n",
       "33      0.633836      0.790599       0.831395       0.948401       0.948401   \n",
       "34      0.043431      0.123630       0.153828       0.295058       0.295058   \n",
       "35      0.665092      0.798292       0.855378       0.948886       0.948886   \n",
       "36      0.032285      0.098189       0.126696       0.268895       0.268895   \n",
       "37      0.496638      0.648919       0.808382       0.938953       0.938953   \n",
       "38      0.036041      0.108426       0.136386       0.288275       0.288275   \n",
       "39      0.505724      0.650554       0.806444       0.922723       0.922723   \n",
       "40      0.034829      0.104912       0.120155       0.261628       0.261628   \n",
       "41      0.676782      0.762251       0.888081       0.961725       0.961725   \n",
       "42      0.010721      0.044097       0.015262       0.057171       0.057171   \n",
       "43      0.207523      0.372585       0.461725       0.645591       0.645591   \n",
       "44      0.010479      0.046460       0.012839       0.047481       0.047481   \n",
       "45      0.186383      0.359925       0.345203       0.571463       0.571463   \n",
       "46      0.019565      0.069296       0.056444       0.147529       0.147529   \n",
       "47      0.703919      0.817191       0.857074       0.940165       0.940165   \n",
       "48      0.034224      0.099582       0.110707       0.242006       0.242006   \n",
       "49      0.666061      0.800170       0.861434       0.957364       0.957364   \n",
       "50      0.038646      0.112908       0.140504       0.259932       0.259932   \n",
       "51      0.743594      0.840632       0.889050       0.961725       0.961725   \n",
       "52      0.036950      0.115513       0.137112       0.278828       0.278828   \n",
       "53      0.674905      0.810588       0.860223       0.955911       0.955911   \n",
       "54      0.050942      0.139560       0.179748       0.333576       0.333576   \n",
       "55      0.694712      0.809922       0.876453       0.957364       0.957364   \n",
       "56      0.038040      0.111273       0.141231       0.293847       0.293847   \n",
       "57      0.545157      0.692168       0.833091       0.949370       0.949370   \n",
       "58      0.038585      0.118420       0.150921       0.310562       0.310562   \n",
       "59      0.547096      0.680720       0.827035       0.933866       0.933866   \n",
       "\n",
       "    increment aggregation  accepted  \n",
       "0    0.033915         max     False  \n",
       "1    0.348353         max     False  \n",
       "2    0.051357         max     False  \n",
       "3    0.527616         max     False  \n",
       "4    0.066618         max     False  \n",
       "5    0.765019         max     False  \n",
       "6    0.106589         max     False  \n",
       "7    0.733043         max     False  \n",
       "8    0.155523         max     False  \n",
       "9    0.835998         max     False  \n",
       "10   0.168605         max     False  \n",
       "11   0.849806         max     False  \n",
       "12   0.265137         max     False  \n",
       "13   0.880615         max     False  \n",
       "14   0.212694         max     False  \n",
       "15   0.875727         max     False  \n",
       "16   0.249758         max     False  \n",
       "17   0.878391         max     False  \n",
       "18   0.304748         max     False  \n",
       "19   0.954942         max     False  \n",
       "20   0.208576         max     False  \n",
       "21   0.955426         max      True  \n",
       "22  -0.909157         max     False  \n",
       "23  -0.391231         max     False  \n",
       "24  -0.911337         max     False  \n",
       "25  -0.406008         max     False  \n",
       "26  -0.830426         max     False  \n",
       "27  -0.025194         max     False  \n",
       "28  -0.756541         max     False  \n",
       "29  -0.013808         max     False  \n",
       "30  -0.719477         max     False  \n",
       "31   0.000242         max     False  \n",
       "32  -0.710029         max     False  \n",
       "33  -0.007025         max     False  \n",
       "34  -0.660368         max     False  \n",
       "35  -0.006541         max     False  \n",
       "36  -0.686531         max     False  \n",
       "37  -0.016473         max     False  \n",
       "38  -0.667151         max     False  \n",
       "39  -0.032703         max     False  \n",
       "40  -0.693798         max     False  \n",
       "41   0.006298         max      True  \n",
       "42  -0.904554         max     False  \n",
       "43  -0.316134         max     False  \n",
       "44  -0.914244         max     False  \n",
       "45  -0.390262         max     False  \n",
       "46  -0.814196         max     False  \n",
       "47  -0.021560         max     False  \n",
       "48  -0.719719         max     False  \n",
       "49  -0.004360         max     False  \n",
       "50  -0.701793         max     False  \n",
       "51   0.000000         max     False  \n",
       "52  -0.682897         max     False  \n",
       "53  -0.005814         max     False  \n",
       "54  -0.628149         max     False  \n",
       "55  -0.004360         max     False  \n",
       "56  -0.667878         max     False  \n",
       "57  -0.012355         max     False  \n",
       "58  -0.651163         max     False  \n",
       "59  -0.027859         max     False  "
      ]
     },
     "execution_count": 77,
     "metadata": {},
     "output_type": "execute_result"
    }
   ],
   "source": [
    "df_trace"
   ]
  },
  {
   "cell_type": "code",
   "execution_count": 13,
   "metadata": {},
   "outputs": [
    {
     "data": {
      "image/png": "[encoded data removed]",
      "text/plain": [
       "<Figure size 1200x500 with 2 Axes>"
      ]
     },
     "metadata": {},
     "output_type": "display_data"
    }
   ],
   "source": [
    "import pandas as pd\n",
    "import matplotlib.pyplot as plt\n",
    "from pathlib import Path\n",
    "\n",
    "\n",
    "def plot_layer_selection_results(df,\n",
    "                                 title: str = \"Layer selection\",\n",
    "                                 ylabel: str = \"Outlier top‑5 increment\") -> plt.Figure:\n",
    "    \"\"\"Plot accepted increments per step.\n",
    "\n",
    "    Parameters\n",
    "    ----------\n",
    "    csv_path : str or Path\n",
    "        Path to df_trace.csv produced by the selection routine.\n",
    "    title : str\n",
    "        Overall plot title.\n",
    "    ylabel : str\n",
    "        Y‑axis label for both sub‑plots.\n",
    "\n",
    "    Returns\n",
    "    -------\n",
    "    fig : matplotlib.figure.Figure\n",
    "    \"\"\"\n",
    "\n",
    "    # Filter only accepted positive increments\n",
    "    mask = (df[\"accepted\"] == True) & (df[\"increment\"] > 0)\n",
    "    df_plot = df[mask].copy()\n",
    "\n",
    "    if df_plot.empty:\n",
    "        raise ValueError(\"No data to plot. Check the DataFrame contents.\")\n",
    "\n",
    "    # Expect exactly two metric functions\n",
    "    metrics = sorted(df_plot[\"metric_name\"].unique())\n",
    "    if len(metrics) != 2:\n",
    "        raise ValueError(f\"Expected exactly 2 metric functions, found {metrics}\")\n",
    "\n",
    "    # Colour mapping per aggregation\n",
    "    agg_colors = {\n",
    "        \"max\": \"tab:blue\",\n",
    "        \"sum\": \"tab:orange\",\n",
    "        \"avg\": \"tab:green\",\n",
    "    }\n",
    "\n",
    "    # Create subplots with independent scales\n",
    "    fig, axes = plt.subplots(1, 2, figsize=(12, 5))\n",
    "\n",
    "    # Set overall title\n",
    "    fig.suptitle(title, fontsize=16)\n",
    "\n",
    "    for ax, metric in zip(axes, metrics):\n",
    "        sub = df_plot[df_plot[\"metric_name\"] == metric]\n",
    "        for agg, grp in sub.groupby(\"aggregation\"):\n",
    "            grp_sorted = grp.sort_values(\"step\")\n",
    "            ax.plot(\n",
    "                grp_sorted[\"step\"],\n",
    "                grp_sorted[\"outlier_score\"],\n",
    "                marker=\"o\",\n",
    "                label=agg,\n",
    "                color=agg_colors.get(agg),\n",
    "            )\n",
    "        # Axis labels and ticks\n",
    "        metric = 'satelite2drone' if metric.endswith('satelite2drone') else 'satelite2satelite'\n",
    "        ax.set_title(metric, fontsize=14)\n",
    "        ax.set_xlabel(\"Step\", fontsize=12)\n",
    "        ax.set_xticks(sorted(df_plot[\"step\"].unique()))\n",
    "        ax.tick_params(axis='x', labelsize=10)\n",
    "        ax.tick_params(axis='y', labelsize=10)\n",
    "        ax.grid(True, linestyle=\":\", linewidth=0.5)\n",
    "\n",
    "    # Y-axis label on first subplot only\n",
    "    axes[0].set_ylabel(ylabel, fontsize=12)\n",
    "\n",
    "    # Legend on first subplot\n",
    "    legend = axes[0].legend(title=\"Aggregation\", loc=\"best\", fontsize=10)\n",
    "    plt.setp(legend.get_title(), fontsize=11)\n",
    "\n",
    "    # Tight layout\n",
    "    fig.tight_layout(rect=[0, 0.03, 1, 0.95])\n",
    "    return fig\n",
    "\n",
    "\n",
    "df1 = pd.read_csv('data/df_trace_satelite2drone.csv')\n",
    "df2 = pd.read_csv('data/df_trace_satelite2satelite.csv')\n",
    "df = pd.concat([df1, df2], axis=0)\n",
    "# Example call for quick testing\n",
    "plot_layer_selection_results(\n",
    "    df,\n",
    "    title=\"Proxy metrics improvement with additional layers\",\n",
    "    ylabel=\"Top-1 accuracy\"\n",
    ")\n",
    "plt.show()\n"
   ]
  }
 ],
 "metadata": {
  "kernelspec": {
   "display_name": "anyloc-vpair",
   "language": "python",
   "name": "python3"
  },
  "language_info": {
   "codemirror_mode": {
    "name": "ipython",
    "version": 3
   },
   "file_extension": ".py",
   "mimetype": "text/x-python",
   "name": "python",
   "nbconvert_exporter": "python",
   "pygments_lexer": "ipython3",
   "version": "3.10.12"
  }
 },
 "nbformat": 4,
 "nbformat_minor": 2
}
